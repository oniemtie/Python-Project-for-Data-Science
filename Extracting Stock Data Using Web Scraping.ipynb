{
 "cells": [
  {
   "cell_type": "markdown",
   "id": "afbb6b76-9b0c-4971-b473-314ac856d88e",
   "metadata": {
    "tags": []
   },
   "source": [
    "<h1>Extracting Stock Data Using a Web Scraping</h1>"
   ]
  },
  {
   "cell_type": "markdown",
   "id": "12ff8206-3cc1-4ee1-b91d-07a0588d42ee",
   "metadata": {},
   "source": [
    "Not all stock data is available via the API in this assignment; you will use web-scraping to obtain financial data. You will be quizzed on your results.  \n",
    " You will extract and share historical data from a web page using the BeautifulSoup library."
   ]
  },
  {
   "cell_type": "code",
   "execution_count": 21,
   "id": "ef7bfabc-82b7-4458-83d9-802ea407ffe4",
   "metadata": {
    "tags": []
   },
   "outputs": [
    {
     "name": "stdout",
     "output_type": "stream",
     "text": [
      "Collecting package metadata (current_repodata.json): done\n",
      "Solving environment: done\n",
      "\n",
      "\n",
      "==> WARNING: A newer version of conda exists. <==\n",
      "  current version: 23.7.4\n",
      "  latest version: 24.3.0\n",
      "\n",
      "Please update conda by running\n",
      "\n",
      "    $ conda update -n base -c defaults conda\n",
      "\n",
      "Or to minimize the number of packages updated during conda update use\n",
      "\n",
      "     conda install conda=24.3.0\n",
      "\n",
      "\n",
      "\n",
      "# All requested packages already installed.\n",
      "\n"
     ]
    }
   ],
   "source": [
    "!conda install -c anaconda lxml -y"
   ]
  },
  {
   "cell_type": "code",
   "execution_count": 5,
   "id": "91d138de-baf7-4341-93a4-cf1db037412d",
   "metadata": {
    "tags": []
   },
   "outputs": [
    {
     "name": "stdout",
     "output_type": "stream",
     "text": [
      "zsh:1: command not found: mamba\n",
      "zsh:1: command not found: mamba\n",
      "Collecting lxml==4.6.4\n",
      "  Using cached lxml-4.6.4.tar.gz (3.2 MB)\n",
      "  Preparing metadata (setup.py) ... \u001b[?25ldone\n",
      "\u001b[?25hBuilding wheels for collected packages: lxml\n",
      "  Building wheel for lxml (setup.py) ... \u001b[?25lerror\n",
      "  \u001b[1;31merror\u001b[0m: \u001b[1msubprocess-exited-with-error\u001b[0m\n",
      "  \n",
      "  \u001b[31m×\u001b[0m \u001b[32mpython setup.py bdist_wheel\u001b[0m did not run successfully.\n",
      "  \u001b[31m│\u001b[0m exit code: \u001b[1;36m1\u001b[0m\n",
      "  \u001b[31m╰─>\u001b[0m \u001b[31m[108 lines of output]\u001b[0m\n",
      "  \u001b[31m   \u001b[0m Building lxml version 4.6.4.\n",
      "  \u001b[31m   \u001b[0m /private/var/folders/5z/9t04r1kd1mgbwhbw8jst7rvr0000gn/T/pip-install-cm7_sgoo/lxml_56294f33300547029a3edc0fd3d21f69/setup.py:67: DeprecationWarning: pkg_resources is deprecated as an API. See https://setuptools.pypa.io/en/latest/pkg_resources.html\n",
      "  \u001b[31m   \u001b[0m   import pkg_resources\n",
      "  \u001b[31m   \u001b[0m Building without Cython.\n",
      "  \u001b[31m   \u001b[0m Building against libxml2 2.10.4 and libxslt 1.1.37\n",
      "  \u001b[31m   \u001b[0m Building against libxml2/libxslt in one of the following directories:\n",
      "  \u001b[31m   \u001b[0m   /Users/onesimomtintsilana/anaconda3/lib\n",
      "  \u001b[31m   \u001b[0m   /Users/onesimomtintsilana/anaconda3/lib\n",
      "  \u001b[31m   \u001b[0m   /Users/onesimomtintsilana/anaconda3/lib\n",
      "  \u001b[31m   \u001b[0m   /Users/onesimomtintsilana/anaconda3/lib\n",
      "  \u001b[31m   \u001b[0m   /Users/onesimomtintsilana/anaconda3/lib\n",
      "  \u001b[31m   \u001b[0m running bdist_wheel\n",
      "  \u001b[31m   \u001b[0m running build\n",
      "  \u001b[31m   \u001b[0m running build_py\n",
      "  \u001b[31m   \u001b[0m creating build\n",
      "  \u001b[31m   \u001b[0m creating build/lib.macosx-11.1-arm64-cpython-311\n",
      "  \u001b[31m   \u001b[0m creating build/lib.macosx-11.1-arm64-cpython-311/lxml\n",
      "  \u001b[31m   \u001b[0m copying src/lxml/_elementpath.py -> build/lib.macosx-11.1-arm64-cpython-311/lxml\n",
      "  \u001b[31m   \u001b[0m copying src/lxml/sax.py -> build/lib.macosx-11.1-arm64-cpython-311/lxml\n",
      "  \u001b[31m   \u001b[0m copying src/lxml/pyclasslookup.py -> build/lib.macosx-11.1-arm64-cpython-311/lxml\n",
      "  \u001b[31m   \u001b[0m copying src/lxml/__init__.py -> build/lib.macosx-11.1-arm64-cpython-311/lxml\n",
      "  \u001b[31m   \u001b[0m copying src/lxml/builder.py -> build/lib.macosx-11.1-arm64-cpython-311/lxml\n",
      "  \u001b[31m   \u001b[0m copying src/lxml/doctestcompare.py -> build/lib.macosx-11.1-arm64-cpython-311/lxml\n",
      "  \u001b[31m   \u001b[0m copying src/lxml/usedoctest.py -> build/lib.macosx-11.1-arm64-cpython-311/lxml\n",
      "  \u001b[31m   \u001b[0m copying src/lxml/cssselect.py -> build/lib.macosx-11.1-arm64-cpython-311/lxml\n",
      "  \u001b[31m   \u001b[0m copying src/lxml/ElementInclude.py -> build/lib.macosx-11.1-arm64-cpython-311/lxml\n",
      "  \u001b[31m   \u001b[0m creating build/lib.macosx-11.1-arm64-cpython-311/lxml/includes\n",
      "  \u001b[31m   \u001b[0m copying src/lxml/includes/__init__.py -> build/lib.macosx-11.1-arm64-cpython-311/lxml/includes\n",
      "  \u001b[31m   \u001b[0m creating build/lib.macosx-11.1-arm64-cpython-311/lxml/html\n",
      "  \u001b[31m   \u001b[0m copying src/lxml/html/soupparser.py -> build/lib.macosx-11.1-arm64-cpython-311/lxml/html\n",
      "  \u001b[31m   \u001b[0m copying src/lxml/html/defs.py -> build/lib.macosx-11.1-arm64-cpython-311/lxml/html\n",
      "  \u001b[31m   \u001b[0m copying src/lxml/html/_setmixin.py -> build/lib.macosx-11.1-arm64-cpython-311/lxml/html\n",
      "  \u001b[31m   \u001b[0m copying src/lxml/html/clean.py -> build/lib.macosx-11.1-arm64-cpython-311/lxml/html\n",
      "  \u001b[31m   \u001b[0m copying src/lxml/html/_diffcommand.py -> build/lib.macosx-11.1-arm64-cpython-311/lxml/html\n",
      "  \u001b[31m   \u001b[0m copying src/lxml/html/html5parser.py -> build/lib.macosx-11.1-arm64-cpython-311/lxml/html\n",
      "  \u001b[31m   \u001b[0m copying src/lxml/html/__init__.py -> build/lib.macosx-11.1-arm64-cpython-311/lxml/html\n",
      "  \u001b[31m   \u001b[0m copying src/lxml/html/formfill.py -> build/lib.macosx-11.1-arm64-cpython-311/lxml/html\n",
      "  \u001b[31m   \u001b[0m copying src/lxml/html/builder.py -> build/lib.macosx-11.1-arm64-cpython-311/lxml/html\n",
      "  \u001b[31m   \u001b[0m copying src/lxml/html/ElementSoup.py -> build/lib.macosx-11.1-arm64-cpython-311/lxml/html\n",
      "  \u001b[31m   \u001b[0m copying src/lxml/html/_html5builder.py -> build/lib.macosx-11.1-arm64-cpython-311/lxml/html\n",
      "  \u001b[31m   \u001b[0m copying src/lxml/html/usedoctest.py -> build/lib.macosx-11.1-arm64-cpython-311/lxml/html\n",
      "  \u001b[31m   \u001b[0m copying src/lxml/html/diff.py -> build/lib.macosx-11.1-arm64-cpython-311/lxml/html\n",
      "  \u001b[31m   \u001b[0m creating build/lib.macosx-11.1-arm64-cpython-311/lxml/isoschematron\n",
      "  \u001b[31m   \u001b[0m copying src/lxml/isoschematron/__init__.py -> build/lib.macosx-11.1-arm64-cpython-311/lxml/isoschematron\n",
      "  \u001b[31m   \u001b[0m copying src/lxml/etree.h -> build/lib.macosx-11.1-arm64-cpython-311/lxml\n",
      "  \u001b[31m   \u001b[0m copying src/lxml/etree_api.h -> build/lib.macosx-11.1-arm64-cpython-311/lxml\n",
      "  \u001b[31m   \u001b[0m copying src/lxml/lxml.etree.h -> build/lib.macosx-11.1-arm64-cpython-311/lxml\n",
      "  \u001b[31m   \u001b[0m copying src/lxml/lxml.etree_api.h -> build/lib.macosx-11.1-arm64-cpython-311/lxml\n",
      "  \u001b[31m   \u001b[0m copying src/lxml/includes/xmlerror.pxd -> build/lib.macosx-11.1-arm64-cpython-311/lxml/includes\n",
      "  \u001b[31m   \u001b[0m copying src/lxml/includes/c14n.pxd -> build/lib.macosx-11.1-arm64-cpython-311/lxml/includes\n",
      "  \u001b[31m   \u001b[0m copying src/lxml/includes/xmlschema.pxd -> build/lib.macosx-11.1-arm64-cpython-311/lxml/includes\n",
      "  \u001b[31m   \u001b[0m copying src/lxml/includes/__init__.pxd -> build/lib.macosx-11.1-arm64-cpython-311/lxml/includes\n",
      "  \u001b[31m   \u001b[0m copying src/lxml/includes/schematron.pxd -> build/lib.macosx-11.1-arm64-cpython-311/lxml/includes\n",
      "  \u001b[31m   \u001b[0m copying src/lxml/includes/tree.pxd -> build/lib.macosx-11.1-arm64-cpython-311/lxml/includes\n",
      "  \u001b[31m   \u001b[0m copying src/lxml/includes/uri.pxd -> build/lib.macosx-11.1-arm64-cpython-311/lxml/includes\n",
      "  \u001b[31m   \u001b[0m copying src/lxml/includes/etreepublic.pxd -> build/lib.macosx-11.1-arm64-cpython-311/lxml/includes\n",
      "  \u001b[31m   \u001b[0m copying src/lxml/includes/xpath.pxd -> build/lib.macosx-11.1-arm64-cpython-311/lxml/includes\n",
      "  \u001b[31m   \u001b[0m copying src/lxml/includes/htmlparser.pxd -> build/lib.macosx-11.1-arm64-cpython-311/lxml/includes\n",
      "  \u001b[31m   \u001b[0m copying src/lxml/includes/xslt.pxd -> build/lib.macosx-11.1-arm64-cpython-311/lxml/includes\n",
      "  \u001b[31m   \u001b[0m copying src/lxml/includes/config.pxd -> build/lib.macosx-11.1-arm64-cpython-311/lxml/includes\n",
      "  \u001b[31m   \u001b[0m copying src/lxml/includes/xmlparser.pxd -> build/lib.macosx-11.1-arm64-cpython-311/lxml/includes\n",
      "  \u001b[31m   \u001b[0m copying src/lxml/includes/xinclude.pxd -> build/lib.macosx-11.1-arm64-cpython-311/lxml/includes\n",
      "  \u001b[31m   \u001b[0m copying src/lxml/includes/dtdvalid.pxd -> build/lib.macosx-11.1-arm64-cpython-311/lxml/includes\n",
      "  \u001b[31m   \u001b[0m copying src/lxml/includes/relaxng.pxd -> build/lib.macosx-11.1-arm64-cpython-311/lxml/includes\n",
      "  \u001b[31m   \u001b[0m copying src/lxml/includes/lxml-version.h -> build/lib.macosx-11.1-arm64-cpython-311/lxml/includes\n",
      "  \u001b[31m   \u001b[0m copying src/lxml/includes/etree_defs.h -> build/lib.macosx-11.1-arm64-cpython-311/lxml/includes\n",
      "  \u001b[31m   \u001b[0m creating build/lib.macosx-11.1-arm64-cpython-311/lxml/isoschematron/resources\n",
      "  \u001b[31m   \u001b[0m creating build/lib.macosx-11.1-arm64-cpython-311/lxml/isoschematron/resources/rng\n",
      "  \u001b[31m   \u001b[0m copying src/lxml/isoschematron/resources/rng/iso-schematron.rng -> build/lib.macosx-11.1-arm64-cpython-311/lxml/isoschematron/resources/rng\n",
      "  \u001b[31m   \u001b[0m creating build/lib.macosx-11.1-arm64-cpython-311/lxml/isoschematron/resources/xsl\n",
      "  \u001b[31m   \u001b[0m copying src/lxml/isoschematron/resources/xsl/XSD2Schtrn.xsl -> build/lib.macosx-11.1-arm64-cpython-311/lxml/isoschematron/resources/xsl\n",
      "  \u001b[31m   \u001b[0m copying src/lxml/isoschematron/resources/xsl/RNG2Schtrn.xsl -> build/lib.macosx-11.1-arm64-cpython-311/lxml/isoschematron/resources/xsl\n",
      "  \u001b[31m   \u001b[0m creating build/lib.macosx-11.1-arm64-cpython-311/lxml/isoschematron/resources/xsl/iso-schematron-xslt1\n",
      "  \u001b[31m   \u001b[0m copying src/lxml/isoschematron/resources/xsl/iso-schematron-xslt1/iso_abstract_expand.xsl -> build/lib.macosx-11.1-arm64-cpython-311/lxml/isoschematron/resources/xsl/iso-schematron-xslt1\n",
      "  \u001b[31m   \u001b[0m copying src/lxml/isoschematron/resources/xsl/iso-schematron-xslt1/iso_dsdl_include.xsl -> build/lib.macosx-11.1-arm64-cpython-311/lxml/isoschematron/resources/xsl/iso-schematron-xslt1\n",
      "  \u001b[31m   \u001b[0m copying src/lxml/isoschematron/resources/xsl/iso-schematron-xslt1/iso_schematron_skeleton_for_xslt1.xsl -> build/lib.macosx-11.1-arm64-cpython-311/lxml/isoschematron/resources/xsl/iso-schematron-xslt1\n",
      "  \u001b[31m   \u001b[0m copying src/lxml/isoschematron/resources/xsl/iso-schematron-xslt1/iso_svrl_for_xslt1.xsl -> build/lib.macosx-11.1-arm64-cpython-311/lxml/isoschematron/resources/xsl/iso-schematron-xslt1\n",
      "  \u001b[31m   \u001b[0m copying src/lxml/isoschematron/resources/xsl/iso-schematron-xslt1/iso_schematron_message.xsl -> build/lib.macosx-11.1-arm64-cpython-311/lxml/isoschematron/resources/xsl/iso-schematron-xslt1\n",
      "  \u001b[31m   \u001b[0m copying src/lxml/isoschematron/resources/xsl/iso-schematron-xslt1/readme.txt -> build/lib.macosx-11.1-arm64-cpython-311/lxml/isoschematron/resources/xsl/iso-schematron-xslt1\n",
      "  \u001b[31m   \u001b[0m running build_ext\n",
      "  \u001b[31m   \u001b[0m building 'lxml.etree' extension\n",
      "  \u001b[31m   \u001b[0m creating build/temp.macosx-11.1-arm64-cpython-311\n",
      "  \u001b[31m   \u001b[0m creating build/temp.macosx-11.1-arm64-cpython-311/src\n",
      "  \u001b[31m   \u001b[0m creating build/temp.macosx-11.1-arm64-cpython-311/src/lxml\n",
      "  \u001b[31m   \u001b[0m clang -DNDEBUG -fwrapv -O2 -Wall -fPIC -O2 -isystem /Users/onesimomtintsilana/anaconda3/include -arch arm64 -fPIC -O2 -isystem /Users/onesimomtintsilana/anaconda3/include -arch arm64 -DCYTHON_CLINE_IN_TRACEBACK=0 -I/Users/onesimomtintsilana/anaconda3/include/libxml2 -I/Users/onesimomtintsilana/anaconda3/include -Isrc -Isrc/lxml/includes -I/Users/onesimomtintsilana/anaconda3/include/python3.11 -c src/lxml/etree.c -o build/temp.macosx-11.1-arm64-cpython-311/src/lxml/etree.o -w -flat_namespace\n",
      "  \u001b[31m   \u001b[0m src/lxml/etree.c:288:12: fatal error: 'longintrepr.h' file not found\n",
      "  \u001b[31m   \u001b[0m   #include \"longintrepr.h\"\n",
      "  \u001b[31m   \u001b[0m            ^~~~~~~~~~~~~~~\n",
      "  \u001b[31m   \u001b[0m 1 error generated.\n",
      "  \u001b[31m   \u001b[0m Compile failed: command '/usr/bin/clang' failed with exit code 1\n",
      "  \u001b[31m   \u001b[0m creating var\n",
      "  \u001b[31m   \u001b[0m creating var/folders\n",
      "  \u001b[31m   \u001b[0m creating var/folders/5z\n",
      "  \u001b[31m   \u001b[0m creating var/folders/5z/9t04r1kd1mgbwhbw8jst7rvr0000gn\n",
      "  \u001b[31m   \u001b[0m creating var/folders/5z/9t04r1kd1mgbwhbw8jst7rvr0000gn/T\n",
      "  \u001b[31m   \u001b[0m cc -I/Users/onesimomtintsilana/anaconda3/include/libxml2 -I/Users/onesimomtintsilana/anaconda3/include -I/usr/include/libxml2 -c /var/folders/5z/9t04r1kd1mgbwhbw8jst7rvr0000gn/T/xmlXPathInitl2yrq8pu.c -o var/folders/5z/9t04r1kd1mgbwhbw8jst7rvr0000gn/T/xmlXPathInitl2yrq8pu.o\n",
      "  \u001b[31m   \u001b[0m /var/folders/5z/9t04r1kd1mgbwhbw8jst7rvr0000gn/T/xmlXPathInitl2yrq8pu.c:3:5: warning: 'xmlXPathInit' is deprecated [-Wdeprecated-declarations]\n",
      "  \u001b[31m   \u001b[0m     xmlXPathInit();\n",
      "  \u001b[31m   \u001b[0m     ^\n",
      "  \u001b[31m   \u001b[0m /Users/onesimomtintsilana/anaconda3/include/libxml2/libxml/xpath.h:562:1: note: 'xmlXPathInit' has been explicitly marked deprecated here\n",
      "  \u001b[31m   \u001b[0m XML_DEPRECATED\n",
      "  \u001b[31m   \u001b[0m ^\n",
      "  \u001b[31m   \u001b[0m /Users/onesimomtintsilana/anaconda3/include/libxml2/libxml/xmlversion.h:464:43: note: expanded from macro 'XML_DEPRECATED'\n",
      "  \u001b[31m   \u001b[0m #    define XML_DEPRECATED __attribute__((deprecated))\n",
      "  \u001b[31m   \u001b[0m                                           ^\n",
      "  \u001b[31m   \u001b[0m 1 warning generated.\n",
      "  \u001b[31m   \u001b[0m cc var/folders/5z/9t04r1kd1mgbwhbw8jst7rvr0000gn/T/xmlXPathInitl2yrq8pu.o -L/Users/onesimomtintsilana/anaconda3/lib -L/Users/onesimomtintsilana/anaconda3/lib -L/Users/onesimomtintsilana/anaconda3/lib -L/Users/onesimomtintsilana/anaconda3/lib -L/Users/onesimomtintsilana/anaconda3/lib -lxml2 -o a.out\n",
      "  \u001b[31m   \u001b[0m error: command '/usr/bin/clang' failed with exit code 1\n",
      "  \u001b[31m   \u001b[0m \u001b[31m[end of output]\u001b[0m\n",
      "  \n",
      "  \u001b[1;35mnote\u001b[0m: This error originates from a subprocess, and is likely not a problem with pip.\n",
      "\u001b[31m  ERROR: Failed building wheel for lxml\u001b[0m\u001b[31m\n",
      "\u001b[0m\u001b[?25h  Running setup.py clean for lxml\n",
      "Failed to build lxml\n",
      "\u001b[31mERROR: Could not build wheels for lxml, which is required to install pyproject.toml-based projects\u001b[0m\u001b[31m\n",
      "\u001b[0m"
     ]
    }
   ],
   "source": [
    "#!pip install pandas==1.3.3\n",
    "#!pip install requests==2.26.0\n",
    "!mamba install bs4==4.10.0 -y\n",
    "!mamba install html5lib==1.1 -y \n",
    "!pip install lxml==4.6.4\n",
    "#!pip install plotly==5.3.1"
   ]
  },
  {
   "cell_type": "code",
   "execution_count": 22,
   "id": "8d72d979-c34e-4621-a9b0-096a97b433b4",
   "metadata": {
    "tags": []
   },
   "outputs": [],
   "source": [
    "import pandas as pd\n",
    "import requests\n",
    "from bs4 import BeautifulSoup"
   ]
  },
  {
   "cell_type": "markdown",
   "id": "30fe9b92-dc28-4e9b-98b5-dbc2fef81e1e",
   "metadata": {},
   "source": [
    "In Python, you can ignore warnings using the warnings module. You can use the filterwarnings function to filter or ignore specific warning messages or categories."
   ]
  },
  {
   "cell_type": "code",
   "execution_count": 23,
   "id": "82d0e225-5040-422f-929f-c840fb5ec8c9",
   "metadata": {
    "tags": []
   },
   "outputs": [],
   "source": [
    "import warnings\n",
    "# Ignore all warnings\n",
    "warnings.filterwarnings(\"ignore\", category=FutureWarning)"
   ]
  },
  {
   "cell_type": "markdown",
   "id": "c7eb1651-f416-4d71-87ac-6882340cafec",
   "metadata": {},
   "source": [
    "## Using Webscraping to Extract Stock Data Example"
   ]
  },
  {
   "cell_type": "markdown",
   "id": "14c15d35-1b2c-4fee-8fe9-ec916e8ae1b3",
   "metadata": {},
   "source": [
    "We will extract Netflix stock data https://cf-courses-data.s3.us.cloud-object-storage.appdomain.cloud/IBMDeveloperSkillsNetwork-PY0220EN-SkillsNetwork/labs/project/netflix_data_webpage.html."
   ]
  },
  {
   "cell_type": "markdown",
   "id": "03b6bf3d-7a4d-4c97-a75b-def0b2668528",
   "metadata": {
    "tags": []
   },
   "source": [
    "<center> \n",
    "    \n",
    "#### In this example, we are using yahoo finance website and looking to extract Netflix data.\n",
    "\n",
    "</center>\n",
    "    <br>\n",
    "\n",
    "  <img src=\"https://cf-courses-data.s3.us.cloud-object-storage.appdomain.cloud/IBMDeveloperSkillsNetwork-PY0220EN-SkillsNetwork/labs/project/Images/netflix.png\"> </center> \n",
    "  \n",
    "<center> Fig:- Table that we need to extract </center>\n"
   ]
  },
  {
   "cell_type": "markdown",
   "id": "23d80d49-b360-40a6-b2b5-3940dec62801",
   "metadata": {},
   "source": [
    "On the following web page we have a table with columns name (Date, Open, High, Low, close, adj close volume) out of which we must extract following columns  \n",
    "\n",
    "* Date \n",
    "\n",
    "* Open  \n",
    "\n",
    "* High \n",
    "\n",
    "* Low \n",
    "\n",
    "* Close \n",
    "\n",
    "* Volume \n"
   ]
  },
  {
   "cell_type": "markdown",
   "id": "42755e4c-0328-407b-9d57-624589877659",
   "metadata": {},
   "source": [
    "# Steps for extracting the data\n",
    "1. Send an HTTP request to the web page using the requests library.\n",
    "2. Parse the HTML content of the web page using BeautifulSoup.\n",
    "3. Identify the HTML tags that contain the data you want to extract.\n",
    "4. Use BeautifulSoup methods to extract the data from the HTML tags.\n",
    "5. Print the extracted data\n"
   ]
  },
  {
   "cell_type": "markdown",
   "id": "4f9c2597-d07d-4f88-932d-cdca83062e07",
   "metadata": {},
   "source": [
    "### Step 1: Send an HTTP request to the web page"
   ]
  },
  {
   "cell_type": "markdown",
   "id": "566ebf49-4d87-48b1-87de-bb5ce28b04fd",
   "metadata": {},
   "source": [
    "You will use the request library for sending an HTTP request to the web page.<br>\n"
   ]
  },
  {
   "cell_type": "code",
   "execution_count": 24,
   "id": "c66c87b8-aa10-412d-adeb-9e59533839dc",
   "metadata": {
    "tags": []
   },
   "outputs": [],
   "source": [
    "url = \"https://cf-courses-data.s3.us.cloud-object-storage.appdomain.cloud/IBMDeveloperSkillsNetwork-PY0220EN-SkillsNetwork/labs/project/netflix_data_webpage.html\""
   ]
  },
  {
   "cell_type": "markdown",
   "id": "2a421a67-13da-420f-a319-3067dd87d5c1",
   "metadata": {},
   "source": [
    "The requests.get() method takes a URL as its first argument, which specifies the location of the resource to be retrieved. In this case, the value of the url variable is passed as the argument to the requests.get() method, because you will store a web page URL in a url variable.\n",
    "\n",
    "You use the .text method for extracting the HTML content as a string in order to make it readable."
   ]
  },
  {
   "cell_type": "code",
   "execution_count": 25,
   "id": "b6cef682-5229-433c-81c4-80393eed6fa6",
   "metadata": {
    "tags": []
   },
   "outputs": [],
   "source": [
    "data  = requests.get(url).text\n",
    "#print(data)"
   ]
  },
  {
   "cell_type": "markdown",
   "id": "97f1fe5c-c4a2-496b-a423-02d6087bf809",
   "metadata": {},
   "source": [
    "### Step 2: Parse the HTML content\n"
   ]
  },
  {
   "cell_type": "markdown",
   "id": "a9e148c3-d2bb-43ae-b716-ab7dc2060695",
   "metadata": {},
   "source": [
    "<hr>\n",
    "<hr>\n",
    "<center>\n",
    "\n",
    "# What is parsing?\n",
    "In simple words, parsing refers to the process of analyzing a string of text or a data structure, usually following a set of rules or grammar, to understand its structure and meaning.\n",
    "Parsing involves breaking down a piece of text or data into its individual components or elements, and then analyzing those components to extract the desired information or to understand their relationships and meanings.</center>\n",
    "<hr>\n",
    "<hr>\n"
   ]
  },
  {
   "cell_type": "markdown",
   "id": "c2748584-5f6a-4936-ad1e-b2150d0344f6",
   "metadata": {},
   "source": [
    "Next you will take the raw HTML content of a web page or a string of HTML code which needs to be parsed and transformed into a structured, hierarchical format that can be more easily analyzed and manipulated in Python. This can be done using a Python library called Beautiful Soup."
   ]
  },
  {
   "cell_type": "markdown",
   "id": "21e61c72-51f7-4b2c-b138-b7071ef627b7",
   "metadata": {},
   "source": [
    "## Parsing the data using the BeautifulSoup library\n",
    "* Create a new BeautifulSoup object.\n",
    "<br>\n",
    "<br>\n",
    "<b>Note: </b>To create a BeautifulSoup object in Python, you need to pass two arguments to its constructor:\n",
    "\n",
    "1. The HTML or XML content that you want to parse as a string.\n",
    "2. The name of the parser that you want to use to parse the HTML or XML content. This argument is optional, and if you don't specify a parser, BeautifulSoup will use the default HTML parser included with the library.\n",
    "here in this lab we are using \"html5lib\" parser.\n"
   ]
  },
  {
   "cell_type": "code",
   "execution_count": 26,
   "id": "8801c0ea-1805-404a-934d-7d18ce550db7",
   "metadata": {
    "tags": []
   },
   "outputs": [],
   "source": [
    "soup = BeautifulSoup(data, 'html5lib')"
   ]
  },
  {
   "cell_type": "markdown",
   "id": "ca4fec4d-48b0-44a4-be8f-ccc03601cf53",
   "metadata": {},
   "source": [
    "### Step 3: Identify the HTML tags"
   ]
  },
  {
   "cell_type": "markdown",
   "id": "d519ec20-291e-4051-9a25-0d896cf36d44",
   "metadata": {},
   "source": [
    "As stated above, the web page consists of a table so, we will scrape the content of the HTML web page and convert the table into a data frame."
   ]
  },
  {
   "cell_type": "markdown",
   "id": "0112218f-08d1-43b2-970f-973914b1292e",
   "metadata": {},
   "source": [
    "You will create an empty data frame using the <b> pd.DataFrame() </b> function with the following columns:\n",
    "* \"Date\"\n",
    "* \"Open\"\n",
    "* \"High\" \n",
    "* \"Low\" \n",
    "* \"Close\"\n",
    "* \"Volume\""
   ]
  },
  {
   "cell_type": "code",
   "execution_count": 27,
   "id": "18f948a6-48d2-42df-bb1a-3208877879a3",
   "metadata": {
    "tags": []
   },
   "outputs": [],
   "source": [
    "netflix_data = pd.DataFrame(columns=[\"Date\", \"Open\", \"High\", \"Low\", \"Close\", \"Volume\"])"
   ]
  },
  {
   "cell_type": "markdown",
   "id": "31670b6e-5448-4480-9967-46be359a86ed",
   "metadata": {},
   "source": [
    "<hr>\n",
    "<hr>\n",
    "<center>\n",
    "\n",
    "### Working on HTML table  </center>\n",
    "<br>\n",
    "\n",
    "These are the following tags which are used while creating HTML tables.\n",
    "\n",
    "* &lt;table&gt;: This tag is a root tag used to define the start and end of the table. All the content of the table is enclosed within these tags. \n",
    "\n",
    "\n",
    "* &lt;tr&gt;: This tag is used to define a table row. Each row of the table is defined within this tag.\n",
    "\n",
    "* &lt;td&gt;: This tag is used to define a table cell. Each cell of the table is defined within this tag. You can specify the content of the cell between the opening and closing <td> tags.\n",
    "\n",
    "* &lt;th&gt;: This tag is used to define a header cell in the table. The header cell is used to describe the contents of a column or row. By default, the text inside a <th> tag is bold and centered.\n",
    "\n",
    "* &lt;tbody&gt;: This is the main content of the table, which is defined using the <tbody> tag. It contains one or more rows of <tr> elements.\n",
    "\n",
    "<hr>\n",
    "<hr>\n"
   ]
  },
  {
   "cell_type": "markdown",
   "id": "4fa7eb35-e1d2-40ec-b363-ac12910ae3ff",
   "metadata": {},
   "source": [
    "### Step 4: Use a BeautifulSoup method for extracting data"
   ]
  },
  {
   "cell_type": "markdown",
   "id": "e8d569bf-8772-4887-8efd-00c68b35601a",
   "metadata": {
    "tags": []
   },
   "source": [
    "We will use <b>find()</b> and <b>find_all()</b> methods of the BeautifulSoup object to locate the table body and table row respectively in the HTML. \n",
    "   * The <i>find() method </i> will return particular tag content.\n",
    "   * The <i>find_all()</i> method returns a list of all matching tags in the HTML."
   ]
  },
  {
   "cell_type": "code",
   "execution_count": 30,
   "id": "d5131e4f-b436-4e42-82bb-3484f44502e6",
   "metadata": {
    "tags": []
   },
   "outputs": [],
   "source": [
    "# Initialize an empty list to store row data\n",
    "rows_data = []\n",
    "\n",
    "# Loop through each row and extract column values\n",
    "for row in soup.find(\"tbody\").find_all('tr'):\n",
    "    col = row.find_all(\"td\")\n",
    "    date = col[0].text\n",
    "    Open = col[1].text\n",
    "    high = col[2].text\n",
    "    low = col[3].text\n",
    "    close = col[4].text\n",
    "    adj_close = col[5].text\n",
    "    volume = col[6].text\n",
    "    \n",
    "    # Append the data of each row to the list\n",
    "    rows_data.append({\"Date\": date, \"Open\": Open, \"High\": high, \"Low\": low, \"Close\": close, \"Adj Close\": adj_close, \"Volume\": volume})\n",
    "\n",
    "# Create DataFrame from the list of row data\n",
    "netflix_data = pd.DataFrame(rows_data)\n"
   ]
  },
  {
   "cell_type": "markdown",
   "id": "6b342085-577c-4f04-802e-823c2c2742e3",
   "metadata": {
    "tags": []
   },
   "source": [
    "### Step 5: Print the extracted data"
   ]
  },
  {
   "cell_type": "markdown",
   "id": "b869d717-a393-43d5-b9bc-80bda25d9a81",
   "metadata": {},
   "source": [
    "We can now print out the data frame using the head() or tail() function.\n"
   ]
  },
  {
   "cell_type": "code",
   "execution_count": 32,
   "id": "be8199ea-294a-43be-8db7-2ff46fd74574",
   "metadata": {
    "tags": []
   },
   "outputs": [
    {
     "data": {
      "text/html": [
       "<div>\n",
       "<style scoped>\n",
       "    .dataframe tbody tr th:only-of-type {\n",
       "        vertical-align: middle;\n",
       "    }\n",
       "\n",
       "    .dataframe tbody tr th {\n",
       "        vertical-align: top;\n",
       "    }\n",
       "\n",
       "    .dataframe thead th {\n",
       "        text-align: right;\n",
       "    }\n",
       "</style>\n",
       "<table border=\"1\" class=\"dataframe\">\n",
       "  <thead>\n",
       "    <tr style=\"text-align: right;\">\n",
       "      <th></th>\n",
       "      <th>Date</th>\n",
       "      <th>Open</th>\n",
       "      <th>High</th>\n",
       "      <th>Low</th>\n",
       "      <th>Close</th>\n",
       "      <th>Adj Close</th>\n",
       "      <th>Volume</th>\n",
       "    </tr>\n",
       "  </thead>\n",
       "  <tbody>\n",
       "    <tr>\n",
       "      <th>0</th>\n",
       "      <td>Jun 01, 2021</td>\n",
       "      <td>504.01</td>\n",
       "      <td>536.13</td>\n",
       "      <td>482.14</td>\n",
       "      <td>528.21</td>\n",
       "      <td>528.21</td>\n",
       "      <td>78,560,600</td>\n",
       "    </tr>\n",
       "    <tr>\n",
       "      <th>1</th>\n",
       "      <td>May 01, 2021</td>\n",
       "      <td>512.65</td>\n",
       "      <td>518.95</td>\n",
       "      <td>478.54</td>\n",
       "      <td>502.81</td>\n",
       "      <td>502.81</td>\n",
       "      <td>66,927,600</td>\n",
       "    </tr>\n",
       "    <tr>\n",
       "      <th>2</th>\n",
       "      <td>Apr 01, 2021</td>\n",
       "      <td>529.93</td>\n",
       "      <td>563.56</td>\n",
       "      <td>499.00</td>\n",
       "      <td>513.47</td>\n",
       "      <td>513.47</td>\n",
       "      <td>111,573,300</td>\n",
       "    </tr>\n",
       "    <tr>\n",
       "      <th>3</th>\n",
       "      <td>Mar 01, 2021</td>\n",
       "      <td>545.57</td>\n",
       "      <td>556.99</td>\n",
       "      <td>492.85</td>\n",
       "      <td>521.66</td>\n",
       "      <td>521.66</td>\n",
       "      <td>90,183,900</td>\n",
       "    </tr>\n",
       "    <tr>\n",
       "      <th>4</th>\n",
       "      <td>Feb 01, 2021</td>\n",
       "      <td>536.79</td>\n",
       "      <td>566.65</td>\n",
       "      <td>518.28</td>\n",
       "      <td>538.85</td>\n",
       "      <td>538.85</td>\n",
       "      <td>61,902,300</td>\n",
       "    </tr>\n",
       "  </tbody>\n",
       "</table>\n",
       "</div>"
      ],
      "text/plain": [
       "           Date    Open    High     Low   Close Adj Close       Volume\n",
       "0  Jun 01, 2021  504.01  536.13  482.14  528.21    528.21   78,560,600\n",
       "1  May 01, 2021  512.65  518.95  478.54  502.81    502.81   66,927,600\n",
       "2  Apr 01, 2021  529.93  563.56  499.00  513.47    513.47  111,573,300\n",
       "3  Mar 01, 2021  545.57  556.99  492.85  521.66    521.66   90,183,900\n",
       "4  Feb 01, 2021  536.79  566.65  518.28  538.85    538.85   61,902,300"
      ]
     },
     "execution_count": 32,
     "metadata": {},
     "output_type": "execute_result"
    }
   ],
   "source": [
    "netflix_data.head()"
   ]
  },
  {
   "cell_type": "markdown",
   "id": "1467410b-f4f9-44c6-bf36-ac47f975c69f",
   "metadata": {},
   "source": [
    "# Extracting data using `pandas` library"
   ]
  },
  {
   "cell_type": "markdown",
   "id": "ff983c7b-5cac-4ed5-9fda-caf2448c414a",
   "metadata": {
    "tags": []
   },
   "source": [
    "We can also use the pandas `read_html` function from the pandas library and use the URL for extracting data."
   ]
  },
  {
   "cell_type": "markdown",
   "id": "6618b9c6-d690-4043-9d20-7f61bea21e8d",
   "metadata": {},
   "source": [
    "<center>\n",
    "\n",
    "## What is read_html in pandas library?\n",
    "`pd.read_html(url)` is a function provided by the pandas library in Python that is used to extract tables from HTML web pages. It takes in a URL as input and returns a list of all the tables found on the web page. \n",
    "</center>\n"
   ]
  },
  {
   "cell_type": "code",
   "execution_count": null,
   "id": "a035cd03-6e2a-41ac-89c7-aaf61e848a7f",
   "metadata": {},
   "outputs": [],
   "source": []
  },
  {
   "cell_type": "code",
   "execution_count": null,
   "id": "a43861d4-e9a4-49e0-804d-19518ebcf35b",
   "metadata": {},
   "outputs": [],
   "source": []
  },
  {
   "cell_type": "code",
   "execution_count": null,
   "id": "44eed5e1-7c7e-4397-83a3-5a67c83318bd",
   "metadata": {},
   "outputs": [],
   "source": []
  }
 ],
 "metadata": {
  "kernelspec": {
   "display_name": "Python 3 (ipykernel)",
   "language": "python",
   "name": "python3"
  },
  "language_info": {
   "codemirror_mode": {
    "name": "ipython",
    "version": 3
   },
   "file_extension": ".py",
   "mimetype": "text/x-python",
   "name": "python",
   "nbconvert_exporter": "python",
   "pygments_lexer": "ipython3",
   "version": "3.11.5"
  }
 },
 "nbformat": 4,
 "nbformat_minor": 5
}
