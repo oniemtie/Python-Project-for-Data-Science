{
 "cells": [
  {
   "cell_type": "markdown",
   "id": "c00b6b37-7131-430c-9bc9-04cb0c976b12",
   "metadata": {
    "tags": []
   },
   "source": [
    "<h1>Extracting Stock Data Using a Python Library</h1>"
   ]
  },
  {
   "cell_type": "markdown",
   "id": "003040fb-c865-47d3-bc23-967889f87d17",
   "metadata": {},
   "source": [
    "A company's stock share is a piece of the company more precisely:\n",
    "\n",
    "A stock (also known as equity) is a security that represents the ownership of a fraction of a corporation. This entitles the owner of the stock to a proportion of the corporation's assets and profits equal to how much stock they own. Units of stock are called \"shares.\" [1]\n",
    "\n",
    "An investor can buy a stock and sell it later. If the stock price increases, the investor profits, If it decreases,the investor with incur a loss.  Determining the stock price is complex; it depends on the number of outstanding shares, the size of the company's future profits, and much more. People trade stocks throughout the day the stock ticker is a report of the price of a certain stock, updated continuously throughout the trading session by the various stock market exchanges.\n",
    "\n",
    "You are a data scientist working for a hedge fund; it's your job to determine any suspicious stock activity. In this lab you will extract stock data using a Python library. We will use the yfinance library, it allows us to extract data for stocks returning data in a pandas dataframe. You will use the lab to extract."
   ]
  },
  {
   "cell_type": "code",
   "execution_count": 2,
   "id": "c4380626-362b-4ff8-987e-ed2e7d44f32e",
   "metadata": {
    "tags": []
   },
   "outputs": [
    {
     "name": "stdout",
     "output_type": "stream",
     "text": [
      "Requirement already satisfied: yfinance==0.2.4 in ./anaconda3/lib/python3.11/site-packages (0.2.4)\n",
      "Requirement already satisfied: pandas>=1.3.0 in ./anaconda3/lib/python3.11/site-packages (from yfinance==0.2.4) (2.0.3)\n",
      "Requirement already satisfied: numpy>=1.16.5 in ./anaconda3/lib/python3.11/site-packages (from yfinance==0.2.4) (1.24.3)\n",
      "Requirement already satisfied: requests>=2.26 in ./anaconda3/lib/python3.11/site-packages (from yfinance==0.2.4) (2.31.0)\n",
      "Requirement already satisfied: multitasking>=0.0.7 in ./anaconda3/lib/python3.11/site-packages (from yfinance==0.2.4) (0.0.11)\n",
      "Requirement already satisfied: lxml>=4.9.1 in ./anaconda3/lib/python3.11/site-packages (from yfinance==0.2.4) (4.9.3)\n",
      "Requirement already satisfied: appdirs>=1.4.4 in ./anaconda3/lib/python3.11/site-packages (from yfinance==0.2.4) (1.4.4)\n",
      "Requirement already satisfied: pytz>=2022.5 in ./anaconda3/lib/python3.11/site-packages (from yfinance==0.2.4) (2023.3.post1)\n",
      "Requirement already satisfied: frozendict>=2.3.4 in ./anaconda3/lib/python3.11/site-packages (from yfinance==0.2.4) (2.4.2)\n",
      "Requirement already satisfied: cryptography>=3.3.2 in ./anaconda3/lib/python3.11/site-packages (from yfinance==0.2.4) (41.0.3)\n",
      "Requirement already satisfied: beautifulsoup4>=4.11.1 in ./anaconda3/lib/python3.11/site-packages (from yfinance==0.2.4) (4.12.3)\n",
      "Requirement already satisfied: html5lib>=1.1 in ./anaconda3/lib/python3.11/site-packages (from yfinance==0.2.4) (1.1)\n",
      "Requirement already satisfied: soupsieve>1.2 in ./anaconda3/lib/python3.11/site-packages (from beautifulsoup4>=4.11.1->yfinance==0.2.4) (2.4)\n",
      "Requirement already satisfied: cffi>=1.12 in ./anaconda3/lib/python3.11/site-packages (from cryptography>=3.3.2->yfinance==0.2.4) (1.15.1)\n",
      "Requirement already satisfied: six>=1.9 in ./anaconda3/lib/python3.11/site-packages (from html5lib>=1.1->yfinance==0.2.4) (1.16.0)\n",
      "Requirement already satisfied: webencodings in ./anaconda3/lib/python3.11/site-packages (from html5lib>=1.1->yfinance==0.2.4) (0.5.1)\n",
      "Requirement already satisfied: python-dateutil>=2.8.2 in ./anaconda3/lib/python3.11/site-packages (from pandas>=1.3.0->yfinance==0.2.4) (2.8.2)\n",
      "Requirement already satisfied: tzdata>=2022.1 in ./anaconda3/lib/python3.11/site-packages (from pandas>=1.3.0->yfinance==0.2.4) (2023.3)\n",
      "Requirement already satisfied: charset-normalizer<4,>=2 in ./anaconda3/lib/python3.11/site-packages (from requests>=2.26->yfinance==0.2.4) (2.0.4)\n",
      "Requirement already satisfied: idna<4,>=2.5 in ./anaconda3/lib/python3.11/site-packages (from requests>=2.26->yfinance==0.2.4) (3.4)\n",
      "Requirement already satisfied: urllib3<3,>=1.21.1 in ./anaconda3/lib/python3.11/site-packages (from requests>=2.26->yfinance==0.2.4) (1.26.16)\n",
      "Requirement already satisfied: certifi>=2017.4.17 in ./anaconda3/lib/python3.11/site-packages (from requests>=2.26->yfinance==0.2.4) (2023.11.17)\n",
      "Requirement already satisfied: pycparser in ./anaconda3/lib/python3.11/site-packages (from cffi>=1.12->cryptography>=3.3.2->yfinance==0.2.4) (2.21)\n"
     ]
    }
   ],
   "source": [
    "!pip install yfinance==0.2.4\n",
    "#!pip install pandas==1.3.3"
   ]
  },
  {
   "cell_type": "code",
   "execution_count": 2,
   "id": "355c2bdc-2749-48f8-a103-8e266dfa99cb",
   "metadata": {
    "tags": []
   },
   "outputs": [],
   "source": [
    "import yfinance as yf\n",
    "import pandas as pd"
   ]
  },
  {
   "cell_type": "markdown",
   "id": "0dc921b5-39c4-41b8-81af-9a97b916adc5",
   "metadata": {},
   "source": [
    "## Using the yfinance Library to Extract Stock Data"
   ]
  },
  {
   "cell_type": "markdown",
   "id": "af593566-5461-4680-88a1-721fb8f8edb8",
   "metadata": {},
   "source": [
    "Using the `Ticker` module we can create an object that will allow us to access functions to extract data. To do this we need to provide the ticker symbol for the stock, here the company is Apple and the ticker symbol is `AAPL`.\n"
   ]
  },
  {
   "cell_type": "code",
   "execution_count": 3,
   "id": "96e9f36a-4ed2-4903-8227-769a08da041d",
   "metadata": {},
   "outputs": [],
   "source": [
    "apple = yf.Ticker(\"AAPL\")"
   ]
  },
  {
   "cell_type": "markdown",
   "id": "73870ac5-a440-421e-a2e5-44bef2ade9fc",
   "metadata": {},
   "source": [
    "Now we can access functions and variables to extract the type of data we need. You can view them and what they represent here https://aroussi.com/post/python-yahoo-finance."
   ]
  },
  {
   "cell_type": "code",
   "execution_count": 6,
   "id": "be4c4ca0-c85c-45f5-8eee-5a8cabd652cf",
   "metadata": {},
   "outputs": [
    {
     "name": "stdout",
     "output_type": "stream",
     "text": [
      "File downloaded successfully.\n"
     ]
    }
   ],
   "source": [
    "import requests\n",
    "\n",
    "url = \"https://cf-courses-data.s3.us.cloud-object-storage.appdomain.cloud/IBMDeveloperSkillsNetwork-PY0220EN-SkillsNetwork/data/apple.json\"\n",
    "response = requests.get(url)\n",
    "\n",
    "with open(\"apple.json\", \"wb\") as f:\n",
    "    f.write(response.content)\n",
    "\n",
    "print(\"File downloaded successfully.\")"
   ]
  },
  {
   "cell_type": "markdown",
   "id": "f91188dc-f258-43e8-84ab-6e6c652dd163",
   "metadata": {},
   "source": [
    "### Stock Info"
   ]
  },
  {
   "cell_type": "markdown",
   "id": "74bd0fee-60fb-43de-97aa-4c6d6d69ff17",
   "metadata": {},
   "source": [
    "Using the attribute  <code>info</code> we can extract information about the stock as a Python dictionary."
   ]
  },
  {
   "cell_type": "code",
   "execution_count": 17,
   "id": "9eabd1ca-601f-49a6-a071-7f7f5d938f76",
   "metadata": {},
   "outputs": [],
   "source": [
    "import json\n",
    "with open('apple.json') as json_file:\n",
    "    apple_info = json.load(json_file)\n",
    "    # Print the type of data variable    \n",
    "    #print(\"Type:\", type(apple_info))\n",
    "#apple_info"
   ]
  },
  {
   "cell_type": "code",
   "execution_count": 8,
   "id": "8c87199b-5e41-438e-a623-a5ab29f62e3a",
   "metadata": {},
   "outputs": [
    {
     "data": {
      "text/plain": [
       "'United States'"
      ]
     },
     "execution_count": 8,
     "metadata": {},
     "output_type": "execute_result"
    }
   ],
   "source": [
    "apple_info['country']"
   ]
  },
  {
   "cell_type": "markdown",
   "id": "260831a2-8e1c-479e-baa4-be2c67cba1ec",
   "metadata": {},
   "source": [
    "### Extracting Share Price"
   ]
  },
  {
   "cell_type": "markdown",
   "id": "7944ad34-cfc7-441b-bc43-41cef04fbe6e",
   "metadata": {},
   "source": [
    "A share is the single smallest part of a company's stock  that you can buy, the prices of these shares fluctuate over time. Using the <code>history()</code> method we can get the share price of the stock over a certain period of time. Using the `period` parameter we can set how far back from the present to get data. The options for `period` are 1 day (1d), 5d, 1 month (1mo) , 3mo, 6mo, 1 year (1y), 2y, 5y, 10y, ytd, and max."
   ]
  },
  {
   "cell_type": "code",
   "execution_count": 11,
   "id": "cb6ccc4e-b268-465b-8e66-a28b453ddb98",
   "metadata": {},
   "outputs": [],
   "source": [
    "apple_share_price_data = apple.history(period=\"10000y\")"
   ]
  },
  {
   "cell_type": "markdown",
   "id": "731bae14-bbc2-46d1-bf0c-34e385ab6a2d",
   "metadata": {},
   "source": [
    "The format that the data is returned in is a Pandas DataFrame. With the `Date` as the index the share `Open`, `High`, `Low`, `Close`, `Volume`, and `Stock Splits` are given for each day."
   ]
  },
  {
   "cell_type": "code",
   "execution_count": 12,
   "id": "d09deedd-758a-49b6-b6c8-dd86642d7b23",
   "metadata": {
    "tags": []
   },
   "outputs": [
    {
     "data": {
      "text/html": [
       "<div>\n",
       "<style scoped>\n",
       "    .dataframe tbody tr th:only-of-type {\n",
       "        vertical-align: middle;\n",
       "    }\n",
       "\n",
       "    .dataframe tbody tr th {\n",
       "        vertical-align: top;\n",
       "    }\n",
       "\n",
       "    .dataframe thead th {\n",
       "        text-align: right;\n",
       "    }\n",
       "</style>\n",
       "<table border=\"1\" class=\"dataframe\">\n",
       "  <thead>\n",
       "    <tr style=\"text-align: right;\">\n",
       "      <th></th>\n",
       "      <th>Open</th>\n",
       "      <th>High</th>\n",
       "      <th>Low</th>\n",
       "      <th>Close</th>\n",
       "      <th>Volume</th>\n",
       "      <th>Dividends</th>\n",
       "      <th>Stock Splits</th>\n",
       "    </tr>\n",
       "    <tr>\n",
       "      <th>Date</th>\n",
       "      <th></th>\n",
       "      <th></th>\n",
       "      <th></th>\n",
       "      <th></th>\n",
       "      <th></th>\n",
       "      <th></th>\n",
       "      <th></th>\n",
       "    </tr>\n",
       "  </thead>\n",
       "  <tbody>\n",
       "    <tr>\n",
       "      <th>1980-12-12 00:00:00-05:00</th>\n",
       "      <td>0.099192</td>\n",
       "      <td>0.099623</td>\n",
       "      <td>0.099192</td>\n",
       "      <td>0.099192</td>\n",
       "      <td>469033600</td>\n",
       "      <td>0.0</td>\n",
       "      <td>0.0</td>\n",
       "    </tr>\n",
       "    <tr>\n",
       "      <th>1980-12-15 00:00:00-05:00</th>\n",
       "      <td>0.094448</td>\n",
       "      <td>0.094448</td>\n",
       "      <td>0.094017</td>\n",
       "      <td>0.094017</td>\n",
       "      <td>175884800</td>\n",
       "      <td>0.0</td>\n",
       "      <td>0.0</td>\n",
       "    </tr>\n",
       "    <tr>\n",
       "      <th>1980-12-16 00:00:00-05:00</th>\n",
       "      <td>0.087548</td>\n",
       "      <td>0.087548</td>\n",
       "      <td>0.087117</td>\n",
       "      <td>0.087117</td>\n",
       "      <td>105728000</td>\n",
       "      <td>0.0</td>\n",
       "      <td>0.0</td>\n",
       "    </tr>\n",
       "    <tr>\n",
       "      <th>1980-12-17 00:00:00-05:00</th>\n",
       "      <td>0.089273</td>\n",
       "      <td>0.089704</td>\n",
       "      <td>0.089273</td>\n",
       "      <td>0.089273</td>\n",
       "      <td>86441600</td>\n",
       "      <td>0.0</td>\n",
       "      <td>0.0</td>\n",
       "    </tr>\n",
       "    <tr>\n",
       "      <th>1980-12-18 00:00:00-05:00</th>\n",
       "      <td>0.091861</td>\n",
       "      <td>0.092292</td>\n",
       "      <td>0.091861</td>\n",
       "      <td>0.091861</td>\n",
       "      <td>73449600</td>\n",
       "      <td>0.0</td>\n",
       "      <td>0.0</td>\n",
       "    </tr>\n",
       "  </tbody>\n",
       "</table>\n",
       "</div>"
      ],
      "text/plain": [
       "                               Open      High       Low     Close     Volume  \\\n",
       "Date                                                                           \n",
       "1980-12-12 00:00:00-05:00  0.099192  0.099623  0.099192  0.099192  469033600   \n",
       "1980-12-15 00:00:00-05:00  0.094448  0.094448  0.094017  0.094017  175884800   \n",
       "1980-12-16 00:00:00-05:00  0.087548  0.087548  0.087117  0.087117  105728000   \n",
       "1980-12-17 00:00:00-05:00  0.089273  0.089704  0.089273  0.089273   86441600   \n",
       "1980-12-18 00:00:00-05:00  0.091861  0.092292  0.091861  0.091861   73449600   \n",
       "\n",
       "                           Dividends  Stock Splits  \n",
       "Date                                                \n",
       "1980-12-12 00:00:00-05:00        0.0           0.0  \n",
       "1980-12-15 00:00:00-05:00        0.0           0.0  \n",
       "1980-12-16 00:00:00-05:00        0.0           0.0  \n",
       "1980-12-17 00:00:00-05:00        0.0           0.0  \n",
       "1980-12-18 00:00:00-05:00        0.0           0.0  "
      ]
     },
     "execution_count": 12,
     "metadata": {},
     "output_type": "execute_result"
    }
   ],
   "source": [
    "apple_share_price_data.head()"
   ]
  },
  {
   "cell_type": "markdown",
   "id": "c8debc6d-e3dc-4c5e-a847-c8a6a561d9a6",
   "metadata": {},
   "source": [
    "We can reset the index of the DataFrame with the `reset_index` function. We also set the `inplace` paramter to `True` so the change takes place to the DataFrame itself.\n"
   ]
  },
  {
   "cell_type": "code",
   "execution_count": 13,
   "id": "2f343f4b-16da-429e-9491-f62abddea9ef",
   "metadata": {
    "tags": []
   },
   "outputs": [],
   "source": [
    "apple_share_price_data.reset_index(inplace=True)"
   ]
  },
  {
   "cell_type": "markdown",
   "id": "d9e9ecdd-12d6-4f2b-892a-d7c8c4049661",
   "metadata": {},
   "source": [
    "We can plot the `Open` price against the `Date`:"
   ]
  },
  {
   "cell_type": "code",
   "execution_count": 14,
   "id": "0c5886bb-b813-4782-b1ff-352794d94d20",
   "metadata": {
    "tags": []
   },
   "outputs": [
    {
     "data": {
      "text/plain": [
       "<Axes: xlabel='Date'>"
      ]
     },
     "execution_count": 14,
     "metadata": {},
     "output_type": "execute_result"
    },
    {
     "data": {
      "image/png": "[encoded data removed]",
      "text/plain": [
       "<Figure size 640x480 with 1 Axes>"
      ]
     },
     "metadata": {},
     "output_type": "display_data"
    }
   ],
   "source": [
    "apple_share_price_data.plot(x=\"Date\", y=\"Open\")"
   ]
  },
  {
   "cell_type": "markdown",
   "id": "f000428a-e3d3-417b-ad7f-c2bd30520425",
   "metadata": {},
   "source": [
    "### Extracting Dividends"
   ]
  },
  {
   "cell_type": "markdown",
   "id": "69a456e2-62d6-456b-867b-89411983fede",
   "metadata": {},
   "source": [
    "Dividends are the distribution of a companys profits to shareholders. In this case they are defined as an amount of money returned per share an investor owns. Using the variable dividends we can get a dataframe of the data. The period of the data is given by the period defined in the 'history` function."
   ]
  },
  {
   "cell_type": "code",
   "execution_count": 15,
   "id": "fe611412-dcb6-49b4-b25c-1a2adda63268",
   "metadata": {
    "tags": []
   },
   "outputs": [
    {
     "data": {
      "text/plain": [
       "Date\n",
       "1987-05-11 00:00:00-04:00    0.000536\n",
       "1987-08-10 00:00:00-04:00    0.000536\n",
       "1987-11-17 00:00:00-05:00    0.000714\n",
       "1988-02-12 00:00:00-05:00    0.000714\n",
       "1988-05-16 00:00:00-04:00    0.000714\n",
       "                               ...   \n",
       "2023-02-10 00:00:00-05:00    0.230000\n",
       "2023-05-12 00:00:00-04:00    0.240000\n",
       "2023-08-11 00:00:00-04:00    0.240000\n",
       "2023-11-10 00:00:00-05:00    0.240000\n",
       "2024-02-09 00:00:00-05:00    0.240000\n",
       "Name: Dividends, Length: 82, dtype: float64"
      ]
     },
     "execution_count": 15,
     "metadata": {},
     "output_type": "execute_result"
    }
   ],
   "source": [
    "apple.dividends"
   ]
  },
  {
   "cell_type": "code",
   "execution_count": 16,
   "id": "2948b701-30c3-4d79-a021-19ab353905cd",
   "metadata": {
    "tags": []
   },
   "outputs": [
    {
     "data": {
      "text/plain": [
       "<Axes: xlabel='Date'>"
      ]
     },
     "execution_count": 16,
     "metadata": {},
     "output_type": "execute_result"
    },
    {
     "data": {
      "image/png": "[encoded data removed]",
      "text/plain": [
       "<Figure size 640x480 with 1 Axes>"
      ]
     },
     "metadata": {},
     "output_type": "display_data"
    }
   ],
   "source": [
    "apple.dividends.plot()"
   ]
  },
  {
   "cell_type": "markdown",
   "id": "818bb9df-e363-4291-afa6-7058a51d73e5",
   "metadata": {},
   "source": [
    "## Exercise "
   ]
  },
  {
   "cell_type": "markdown",
   "id": "49193cf2-d943-4bbf-b719-c93e9caf7f30",
   "metadata": {},
   "source": [
    "Now using the Ticker module create an object for AMD (Advanced Micro Devices) with the ticker symbol is AMD called; name the object amd."
   ]
  },
  {
   "cell_type": "code",
   "execution_count": 27,
   "id": "c0875491-7c15-4071-b76f-5416f7a3c7d5",
   "metadata": {
    "tags": []
   },
   "outputs": [],
   "source": [
    "import requests\n",
    "\n",
    "url = \"https://cf-courses-data.s3.us.cloud-object-storage.appdomain.cloud/IBMDeveloperSkillsNetwork-PY0220EN-SkillsNetwork/data/apple.json\"\n",
    "response = requests.get(url)\n",
    "amd_info = response.json()"
   ]
  },
  {
   "cell_type": "code",
   "execution_count": 29,
   "id": "36aab0b7-ab99-4fb4-8368-e8d2d01284d2",
   "metadata": {
    "tags": []
   },
   "outputs": [],
   "source": [
    "#amd_info"
   ]
  },
  {
   "cell_type": "markdown",
   "id": "884d1ccc-7e5b-490a-a8ba-285c09babc9f",
   "metadata": {},
   "source": [
    "Question 1 Use the key 'country' to find the country the stock belongs to, remember it as it will be a quiz question."
   ]
  },
  {
   "cell_type": "code",
   "execution_count": 32,
   "id": "58ee9061-de91-44bb-80f6-863821efe32e",
   "metadata": {
    "tags": []
   },
   "outputs": [
    {
     "data": {
      "text/plain": [
       "'United States'"
      ]
     },
     "execution_count": 32,
     "metadata": {},
     "output_type": "execute_result"
    }
   ],
   "source": [
    "amd_info['country']"
   ]
  },
  {
   "cell_type": "markdown",
   "id": "43113b27-71c0-435c-855c-4b2aefd14c4f",
   "metadata": {},
   "source": [
    "<b>Question 2</b> Use the key  <code>'sector'</code> to find the sector the stock belongs to, remember it as it will be a quiz question.\n"
   ]
  },
  {
   "cell_type": "code",
   "execution_count": 33,
   "id": "7249d379-5ba9-4e6e-b5ec-7ab8a8795ded",
   "metadata": {
    "tags": []
   },
   "outputs": [
    {
     "data": {
      "text/plain": [
       "'Technology'"
      ]
     },
     "execution_count": 33,
     "metadata": {},
     "output_type": "execute_result"
    }
   ],
   "source": [
    "amd_info[\"sector\"]"
   ]
  },
  {
   "cell_type": "markdown",
   "id": "2f817ba2-95c7-47f5-b716-bc2e28d6a72f",
   "metadata": {},
   "source": [
    "<b>Question 3</b> Obtain stock data for AMD using the `history` function, set the `period` to max. Find the `Volume` traded on the first day (first row)."
   ]
  },
  {
   "cell_type": "code",
   "execution_count": 39,
   "id": "f1bbc1fe-fb8a-44c6-8a18-be02e518e603",
   "metadata": {
    "tags": []
   },
   "outputs": [],
   "source": [
    "amd = yf.Ticker(\"AMD\")"
   ]
  },
  {
   "cell_type": "code",
   "execution_count": 43,
   "id": "1a0d6249-2bad-4b70-ae61-17622f9098c9",
   "metadata": {
    "tags": []
   },
   "outputs": [],
   "source": [
    "amd_share_price_data = amd.history(period=\"10000y\")"
   ]
  },
  {
   "cell_type": "code",
   "execution_count": 49,
   "id": "c752b501-bae0-4d13-b66d-bda2a7ffa49c",
   "metadata": {
    "tags": []
   },
   "outputs": [
    {
     "name": "stdout",
     "output_type": "stream",
     "text": [
      "Volume traded on the first day: 219600.0\n"
     ]
    }
   ],
   "source": [
    "# Find the volume traded on the first day (first row)\n",
    "first_day_volume = amd_share_price_data.iloc[0]['Volume']\n",
    "print(\"Volume traded on the first day:\", first_day_volume)"
   ]
  }
 ],
 "metadata": {
  "kernelspec": {
   "display_name": "Python 3 (ipykernel)",
   "language": "python",
   "name": "python3"
  },
  "language_info": {
   "codemirror_mode": {
    "name": "ipython",
    "version": 3
   },
   "file_extension": ".py",
   "mimetype": "text/x-python",
   "name": "python",
   "nbconvert_exporter": "python",
   "pygments_lexer": "ipython3",
   "version": "3.11.5"
  }
 },
 "nbformat": 4,
 "nbformat_minor": 5
}
