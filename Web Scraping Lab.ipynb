{
 "cells": [
  {
   "cell_type": "code",
   "execution_count": 49,
   "id": "282f7eab",
   "metadata": {},
   "outputs": [
    {
     "name": "stdout",
     "output_type": "stream",
     "text": [
      "Name: beautifulsoup4\n",
      "Version: 4.10.0\n",
      "Summary: Screen-scraping library\n",
      "Home-page: http://www.crummy.com/software/BeautifulSoup/bs4/\n",
      "Author: Leonard Richardson\n",
      "Author-email: leonardr@segfault.org\n",
      "License: MIT\n",
      "Location: /Users/onesimomtintsilana/anaconda3/lib/python3.11/site-packages\n",
      "Requires: soupsieve\n",
      "Required-by: bs4, conda-build, nbconvert\n",
      "Requirement already satisfied: lxml in /Users/onesimomtintsilana/anaconda3/lib/python3.11/site-packages (4.9.3)\n",
      "Requirement already satisfied: html5lib==1.1 in /Users/onesimomtintsilana/anaconda3/lib/python3.11/site-packages (1.1)\n",
      "Requirement already satisfied: six>=1.9 in /Users/onesimomtintsilana/anaconda3/lib/python3.11/site-packages (from html5lib==1.1) (1.16.0)\n",
      "Requirement already satisfied: webencodings in /Users/onesimomtintsilana/anaconda3/lib/python3.11/site-packages (from html5lib==1.1) (0.5.1)\n"
     ]
    }
   ],
   "source": [
    "!pip show beautifulsoup4\n",
    "!pip install lxml\n",
    "!pip install html5lib==1.1"
   ]
  },
  {
   "cell_type": "code",
   "execution_count": 50,
   "id": "c697e11c",
   "metadata": {},
   "outputs": [],
   "source": [
    "from bs4 import BeautifulSoup # this module helps in web scrapping.\n",
    "import requests  # this module helps us to download a web page"
   ]
  },
  {
   "cell_type": "markdown",
   "id": "46ea8658",
   "metadata": {},
   "source": [
    "# Beautiful Soup Objects"
   ]
  },
  {
   "cell_type": "markdown",
   "id": "93496622",
   "metadata": {},
   "source": [
    "Beautiful Soup is a Python library for pulling data out of HTML and XML files, we will focus on HTML files. This is accomplished by representing the HTML as a set of objects with methods used to parse the HTML.  We can navigate the HTML as a tree and/or filter out what we are looking for.\n",
    "\n",
    "Consider the following HTML:"
   ]
  },
  {
   "cell_type": "code",
   "execution_count": 51,
   "id": "3ca01b78",
   "metadata": {},
   "outputs": [
    {
     "data": {
      "text/html": [
       "<!DOCTYPE html>\n",
       "<html>\n",
       "<head>\n",
       "<title>Page Title</title>\n",
       "</head>\n",
       "<body>\n",
       "<h3><b id='boldest'>Lebron James</b></h3>\n",
       "<p> Salary: $ 92,000,000 </p>\n",
       "<h3> Stephen Curry</h3>\n",
       "<p> Salary: $85,000, 000 </p>\n",
       "<h3> Kevin Durant </h3>\n",
       "<p> Salary: $73,200, 000</p>\n",
       "</body>\n",
       "</html>\n"
      ],
      "text/plain": [
       "<IPython.core.display.HTML object>"
      ]
     },
     "metadata": {},
     "output_type": "display_data"
    }
   ],
   "source": [
    "%%html\n",
    "<!DOCTYPE html>\n",
    "<html>\n",
    "<head>\n",
    "<title>Page Title</title>\n",
    "</head>\n",
    "<body>\n",
    "<h3><b id='boldest'>Lebron James</b></h3>\n",
    "<p> Salary: $ 92,000,000 </p>\n",
    "<h3> Stephen Curry</h3>\n",
    "<p> Salary: $85,000, 000 </p>\n",
    "<h3> Kevin Durant </h3>\n",
    "<p> Salary: $73,200, 000</p>\n",
    "</body>\n",
    "</html>"
   ]
  },
  {
   "cell_type": "markdown",
   "id": "6698b5c4",
   "metadata": {},
   "source": [
    "We can store it as a string in the variable HTML:"
   ]
  },
  {
   "cell_type": "code",
   "execution_count": 52,
   "id": "a70a31c2",
   "metadata": {},
   "outputs": [],
   "source": [
    "html=\"<!DOCTYPE html><html><head><title>Page Title</title></head><body><h3><b id='boldest'>Lebron James</b></h3><p> Salary: $ 92,000,000 </p><h3> Stephen Curry</h3><p> Salary: $85,000, 000 </p><h3> Kevin Durant </h3><p> Salary: $73,200, 000</p></body></html>\""
   ]
  },
  {
   "cell_type": "markdown",
   "id": "ecc2872b",
   "metadata": {},
   "source": [
    "To parse a document, pass it into the BeautifulSoup constructor, the BeautifulSoup object, which represents the document as a nested data structure:"
   ]
  },
  {
   "cell_type": "code",
   "execution_count": 53,
   "id": "0051eb6b",
   "metadata": {},
   "outputs": [],
   "source": [
    "soup = BeautifulSoup(html, \"html.parser\")"
   ]
  },
  {
   "cell_type": "markdown",
   "id": "1b6fa809",
   "metadata": {},
   "source": [
    "First, the document is converted to Unicode, (similar to ASCII),  and HTML entities are converted to Unicode characters. Beautiful Soup transforms a complex HTML document into a complex tree of Python objects. The BeautifulSoup object can create other types of objects. In this lab, we will cover BeautifulSoup and Tag objects that for the purposes of this lab are identical, and NavigableString objects."
   ]
  },
  {
   "cell_type": "markdown",
   "id": "b2d9ba57",
   "metadata": {},
   "source": [
    "We can use the method prettify() to display the HTML in the nested structure:"
   ]
  },
  {
   "cell_type": "code",
   "execution_count": 54,
   "id": "d597ba7c",
   "metadata": {},
   "outputs": [
    {
     "name": "stdout",
     "output_type": "stream",
     "text": [
      "<!DOCTYPE html>\n",
      "<html>\n",
      " <head>\n",
      "  <title>\n",
      "   Page Title\n",
      "  </title>\n",
      " </head>\n",
      " <body>\n",
      "  <h3>\n",
      "   <b id=\"boldest\">\n",
      "    Lebron James\n",
      "   </b>\n",
      "  </h3>\n",
      "  <p>\n",
      "   Salary: $ 92,000,000\n",
      "  </p>\n",
      "  <h3>\n",
      "   Stephen Curry\n",
      "  </h3>\n",
      "  <p>\n",
      "   Salary: $85,000, 000\n",
      "  </p>\n",
      "  <h3>\n",
      "   Kevin Durant\n",
      "  </h3>\n",
      "  <p>\n",
      "   Salary: $73,200, 000\n",
      "  </p>\n",
      " </body>\n",
      "</html>\n"
     ]
    }
   ],
   "source": [
    "print(soup.prettify())"
   ]
  },
  {
   "cell_type": "markdown",
   "id": "2fb7d007",
   "metadata": {},
   "source": [
    "## Tags"
   ]
  },
  {
   "cell_type": "markdown",
   "id": "0f86cc50",
   "metadata": {},
   "source": [
    "Let's say we want the title of the page and the name of the top paid player we can use the Tag. The Tag object corresponds to an HTML tag in the original document, for example, the tag title."
   ]
  },
  {
   "cell_type": "code",
   "execution_count": 55,
   "id": "961200f4",
   "metadata": {},
   "outputs": [
    {
     "name": "stdout",
     "output_type": "stream",
     "text": [
      "tag object: <title>Page Title</title>\n"
     ]
    }
   ],
   "source": [
    "tag_object=soup.title\n",
    "print(\"tag object:\",tag_object)"
   ]
  },
  {
   "cell_type": "markdown",
   "id": "b63f19c2",
   "metadata": {},
   "source": [
    "we can see the tag type bs4.element.Tag"
   ]
  },
  {
   "cell_type": "code",
   "execution_count": 56,
   "id": "2eb56628",
   "metadata": {},
   "outputs": [
    {
     "name": "stdout",
     "output_type": "stream",
     "text": [
      "tag object type: <class 'bs4.element.Tag'>\n"
     ]
    }
   ],
   "source": [
    "print(\"tag object type:\",type(tag_object))"
   ]
  },
  {
   "cell_type": "markdown",
   "id": "93688b11",
   "metadata": {},
   "source": [
    "If there is more than one Tag with the same name, the first element with that Tag name is called, this corresponds to the most paid player:"
   ]
  },
  {
   "cell_type": "code",
   "execution_count": 57,
   "id": "5cc8e60d",
   "metadata": {},
   "outputs": [
    {
     "data": {
      "text/plain": [
       "<h3><b id=\"boldest\">Lebron James</b></h3>"
      ]
     },
     "execution_count": 57,
     "metadata": {},
     "output_type": "execute_result"
    }
   ],
   "source": [
    "tag_object=soup.h3\n",
    "tag_object"
   ]
  },
  {
   "cell_type": "markdown",
   "id": "8763a482",
   "metadata": {},
   "source": [
    "Enclosed in the bold attribute <code>b</code>, it helps to use the tree representation. We can navigate down the tree using the child attribute to get the name.\n"
   ]
  },
  {
   "cell_type": "markdown",
   "id": "66f87673",
   "metadata": {},
   "source": [
    "## Children, Parents, and Siblings¶"
   ]
  },
  {
   "cell_type": "markdown",
   "id": "cb5943da",
   "metadata": {},
   "source": [
    "As stated above the Tag object is a tree of objects we can access the child of the tag or navigate down the branch as follows:"
   ]
  },
  {
   "cell_type": "code",
   "execution_count": 58,
   "id": "ee47f744",
   "metadata": {},
   "outputs": [
    {
     "data": {
      "text/plain": [
       "<b id=\"boldest\">Lebron James</b>"
      ]
     },
     "execution_count": 58,
     "metadata": {},
     "output_type": "execute_result"
    }
   ],
   "source": [
    "tag_child =tag_object.b\n",
    "tag_child"
   ]
  },
  {
   "cell_type": "markdown",
   "id": "ab67567b",
   "metadata": {},
   "source": [
    "You can access the parent with the  parent"
   ]
  },
  {
   "cell_type": "code",
   "execution_count": 59,
   "id": "f59f58fb",
   "metadata": {},
   "outputs": [
    {
     "data": {
      "text/plain": [
       "<h3><b id=\"boldest\">Lebron James</b></h3>"
      ]
     },
     "execution_count": 59,
     "metadata": {},
     "output_type": "execute_result"
    }
   ],
   "source": [
    "parent_tag=tag_child.parent\n",
    "parent_tag"
   ]
  },
  {
   "cell_type": "markdown",
   "id": "ad089aab",
   "metadata": {},
   "source": [
    "this is identical to"
   ]
  },
  {
   "cell_type": "code",
   "execution_count": 60,
   "id": "6868da8c",
   "metadata": {},
   "outputs": [
    {
     "data": {
      "text/plain": [
       "<h3><b id=\"boldest\">Lebron James</b></h3>"
      ]
     },
     "execution_count": 60,
     "metadata": {},
     "output_type": "execute_result"
    }
   ],
   "source": [
    "tag_object"
   ]
  },
  {
   "cell_type": "code",
   "execution_count": 61,
   "id": "89cf2977",
   "metadata": {},
   "outputs": [
    {
     "data": {
      "text/plain": [
       "<body><h3><b id=\"boldest\">Lebron James</b></h3><p> Salary: $ 92,000,000 </p><h3> Stephen Curry</h3><p> Salary: $85,000, 000 </p><h3> Kevin Durant </h3><p> Salary: $73,200, 000</p></body>"
      ]
     },
     "execution_count": 61,
     "metadata": {},
     "output_type": "execute_result"
    }
   ],
   "source": [
    "tag_object.parent"
   ]
  },
  {
   "cell_type": "code",
   "execution_count": 62,
   "id": "56a82aa2",
   "metadata": {},
   "outputs": [
    {
     "data": {
      "text/plain": [
       "<p> Salary: $ 92,000,000 </p>"
      ]
     },
     "execution_count": 62,
     "metadata": {},
     "output_type": "execute_result"
    }
   ],
   "source": [
    "sibling_1=tag_object.next_sibling\n",
    "sibling_1 #This is Lebrons Salary"
   ]
  },
  {
   "cell_type": "markdown",
   "id": "32dffbbb",
   "metadata": {},
   "source": [
    "sibling_2 is the header element which is also a sibling of both sibling_1 and tag_object"
   ]
  },
  {
   "cell_type": "code",
   "execution_count": 63,
   "id": "ffe90448",
   "metadata": {},
   "outputs": [
    {
     "data": {
      "text/plain": [
       "<h3> Stephen Curry</h3>"
      ]
     },
     "execution_count": 63,
     "metadata": {},
     "output_type": "execute_result"
    }
   ],
   "source": [
    "sibling_2=sibling_1.next_sibling\n",
    "sibling_2"
   ]
  },
  {
   "cell_type": "markdown",
   "id": "7bed88c0",
   "metadata": {},
   "source": [
    "# Exercise: next_sibling"
   ]
  },
  {
   "cell_type": "markdown",
   "id": "de8fce6f",
   "metadata": {},
   "source": [
    "Using the object sibling_2 and the property next_sibling to find the salary of Stephen Curry:"
   ]
  },
  {
   "cell_type": "code",
   "execution_count": 64,
   "id": "097768f9",
   "metadata": {},
   "outputs": [
    {
     "data": {
      "text/plain": [
       "<p> Salary: $85,000, 000 </p>"
      ]
     },
     "execution_count": 64,
     "metadata": {},
     "output_type": "execute_result"
    }
   ],
   "source": [
    "sibling_2.next_sibling"
   ]
  },
  {
   "cell_type": "markdown",
   "id": "43aab1a6",
   "metadata": {},
   "source": [
    "## HTML Attributes"
   ]
  },
  {
   "cell_type": "markdown",
   "id": "e39e7363",
   "metadata": {},
   "source": [
    "If the tag has attributes, the tag id=\"boldest\" has an attribute id whose value is boldest. You can access a tag’s attributes by treating the tag like a dictionary:"
   ]
  },
  {
   "cell_type": "code",
   "execution_count": 65,
   "id": "e276a19c",
   "metadata": {},
   "outputs": [
    {
     "data": {
      "text/plain": [
       "'boldest'"
      ]
     },
     "execution_count": 65,
     "metadata": {},
     "output_type": "execute_result"
    }
   ],
   "source": [
    "tag_child['id']"
   ]
  },
  {
   "cell_type": "markdown",
   "id": "df0246b5",
   "metadata": {},
   "source": [
    "You can access that dictionary directly as attrs:"
   ]
  },
  {
   "cell_type": "code",
   "execution_count": 66,
   "id": "128b2415",
   "metadata": {},
   "outputs": [
    {
     "data": {
      "text/plain": [
       "{'id': 'boldest'}"
      ]
     },
     "execution_count": 66,
     "metadata": {},
     "output_type": "execute_result"
    }
   ],
   "source": [
    "tag_child.attrs"
   ]
  },
  {
   "cell_type": "markdown",
   "id": "c86ef9aa",
   "metadata": {},
   "source": [
    "You can also work with Multi-valued attribute check out [1] for more."
   ]
  },
  {
   "cell_type": "markdown",
   "id": "af3ea9e0",
   "metadata": {},
   "source": [
    "We can also obtain the content if the attribute of the <code>tag</code> using the Python <code>get()</code> method."
   ]
  },
  {
   "cell_type": "code",
   "execution_count": 67,
   "id": "e6a184bd",
   "metadata": {},
   "outputs": [
    {
     "data": {
      "text/plain": [
       "'boldest'"
      ]
     },
     "execution_count": 67,
     "metadata": {},
     "output_type": "execute_result"
    }
   ],
   "source": [
    "tag_child.get('id')"
   ]
  },
  {
   "cell_type": "markdown",
   "id": "e909cd10",
   "metadata": {},
   "source": [
    "## Navigable String"
   ]
  },
  {
   "cell_type": "markdown",
   "id": "97e29e40",
   "metadata": {},
   "source": [
    "A string corresponds to a bit of text or content within a tag. Beautiful Soup uses the NavigableString class to contain this text. In our HTML we can obtain the name of the first player by extracting the sting of the Tag object tag_child as follows:"
   ]
  },
  {
   "cell_type": "code",
   "execution_count": 68,
   "id": "3278296b",
   "metadata": {},
   "outputs": [
    {
     "data": {
      "text/plain": [
       "'Lebron James'"
      ]
     },
     "execution_count": 68,
     "metadata": {},
     "output_type": "execute_result"
    }
   ],
   "source": [
    "tag_string=tag_child.string\n",
    "tag_string"
   ]
  },
  {
   "cell_type": "markdown",
   "id": "38c6f2ce",
   "metadata": {},
   "source": [
    "we can verify the type is Navigable String"
   ]
  },
  {
   "cell_type": "code",
   "execution_count": 69,
   "id": "a544d9a9",
   "metadata": {},
   "outputs": [
    {
     "data": {
      "text/plain": [
       "bs4.element.NavigableString"
      ]
     },
     "execution_count": 69,
     "metadata": {},
     "output_type": "execute_result"
    }
   ],
   "source": [
    "type(tag_string)"
   ]
  },
  {
   "cell_type": "markdown",
   "id": "6ca6da87",
   "metadata": {},
   "source": [
    "A NavigableString is just like a Python string or Unicode string, to be more precise. The main difference is that it also supports some BeautifulSoup features. We can covert it to sting object in Python:"
   ]
  },
  {
   "cell_type": "code",
   "execution_count": 70,
   "id": "c5ccc2d9",
   "metadata": {},
   "outputs": [
    {
     "data": {
      "text/plain": [
       "'Lebron James'"
      ]
     },
     "execution_count": 70,
     "metadata": {},
     "output_type": "execute_result"
    }
   ],
   "source": [
    "unicode_string = str(tag_string)\n",
    "unicode_string"
   ]
  },
  {
   "cell_type": "markdown",
   "id": "f8b99266",
   "metadata": {},
   "source": [
    "## Filter"
   ]
  },
  {
   "cell_type": "markdown",
   "id": "d51e2ff2",
   "metadata": {},
   "source": [
    "Filters allow you to find complex patterns, the simplest filter is a string. In this section we will pass a string to a different filter method and Beautiful Soup will perform a match against that exact string. Consider the following HTML of rocket launchs:"
   ]
  },
  {
   "cell_type": "code",
   "execution_count": 71,
   "id": "b255f683",
   "metadata": {},
   "outputs": [
    {
     "data": {
      "text/html": [
       "<table>\n",
       "  <tr>\n",
       "    <td id='flight' >Flight No</td>\n",
       "    <td>Launch site</td> \n",
       "    <td>Payload mass</td>\n",
       "   </tr>\n",
       "  <tr> \n",
       "    <td>1</td>\n",
       "    <td><a href='https://en.wikipedia.org/wiki/Florida'>Florida</a></td>\n",
       "    <td>300 kg</td>\n",
       "  </tr>\n",
       "  <tr>\n",
       "    <td>2</td>\n",
       "    <td><a href='https://en.wikipedia.org/wiki/Texas'>Texas</a></td>\n",
       "    <td>94 kg</td>\n",
       "  </tr>\n",
       "  <tr>\n",
       "    <td>3</td>\n",
       "    <td><a href='https://en.wikipedia.org/wiki/Florida'>Florida</a> </td>\n",
       "    <td>80 kg</td>\n",
       "  </tr>\n",
       "</table>\n"
      ],
      "text/plain": [
       "<IPython.core.display.HTML object>"
      ]
     },
     "metadata": {},
     "output_type": "display_data"
    }
   ],
   "source": [
    "%%html\n",
    "<table>\n",
    "  <tr>\n",
    "    <td id='flight' >Flight No</td>\n",
    "    <td>Launch site</td> \n",
    "    <td>Payload mass</td>\n",
    "   </tr>\n",
    "  <tr> \n",
    "    <td>1</td>\n",
    "    <td><a href='https://en.wikipedia.org/wiki/Florida'>Florida</a></td>\n",
    "    <td>300 kg</td>\n",
    "  </tr>\n",
    "  <tr>\n",
    "    <td>2</td>\n",
    "    <td><a href='https://en.wikipedia.org/wiki/Texas'>Texas</a></td>\n",
    "    <td>94 kg</td>\n",
    "  </tr>\n",
    "  <tr>\n",
    "    <td>3</td>\n",
    "    <td><a href='https://en.wikipedia.org/wiki/Florida'>Florida</a> </td>\n",
    "    <td>80 kg</td>\n",
    "  </tr>\n",
    "</table>"
   ]
  },
  {
   "cell_type": "markdown",
   "id": "b7c83611",
   "metadata": {},
   "source": [
    "We can store it as a string in the variable table:"
   ]
  },
  {
   "cell_type": "code",
   "execution_count": 72,
   "id": "70c1b3f3",
   "metadata": {},
   "outputs": [],
   "source": [
    "table=\"<table><tr><td id='flight' >Flight No</td><td>Launch site</td><td>Payload mass</td></tr><tr><td>1</td><td><a href='https://en.wikipedia.org/wiki/Florida'>Florida</a></td><td>300 kg</td></tr><tr><td>2</td><td><a href='https://en.wikipedia.org/wiki/Texas'>Texas</a></td><td>94 kg</td></tr><tr><td>3</td><td><a href='https://en.wikipedia.org/wiki/Florida'>Florida</a> </td><td>80 kg</td></tr></table>\""
   ]
  },
  {
   "cell_type": "code",
   "execution_count": 73,
   "id": "d975368d",
   "metadata": {},
   "outputs": [],
   "source": [
    "table_bs = BeautifulSoup(table, \"html.parser\")"
   ]
  },
  {
   "cell_type": "markdown",
   "id": "bc07f781",
   "metadata": {},
   "source": [
    "## find All¶"
   ]
  },
  {
   "cell_type": "markdown",
   "id": "f8f0a79b",
   "metadata": {},
   "source": [
    "The find_all() method looks through a tag’s descendants and retrieves all descendants that match your filters.\n",
    "\n",
    "The Method signature for find_all(name, attrs, recursive, string, limit, **kwargs)"
   ]
  },
  {
   "cell_type": "markdown",
   "id": "423fb24b",
   "metadata": {},
   "source": [
    "## Name\n",
    "\n",
    "\n",
    "\n",
    "\n",
    "\n",
    "\n",
    "When we set the name parameter to a tag name, the method will extract all the tags with that name and its children."
   ]
  },
  {
   "cell_type": "code",
   "execution_count": 74,
   "id": "0920fd38",
   "metadata": {},
   "outputs": [
    {
     "data": {
      "text/plain": [
       "[<tr><td id=\"flight\">Flight No</td><td>Launch site</td><td>Payload mass</td></tr>,\n",
       " <tr><td>1</td><td><a href=\"https://en.wikipedia.org/wiki/Florida\">Florida</a></td><td>300 kg</td></tr>,\n",
       " <tr><td>2</td><td><a href=\"https://en.wikipedia.org/wiki/Texas\">Texas</a></td><td>94 kg</td></tr>,\n",
       " <tr><td>3</td><td><a href=\"https://en.wikipedia.org/wiki/Florida\">Florida</a> </td><td>80 kg</td></tr>]"
      ]
     },
     "execution_count": 74,
     "metadata": {},
     "output_type": "execute_result"
    }
   ],
   "source": [
    "table_rows=table_bs.find_all('tr')\n",
    "table_rows"
   ]
  },
  {
   "cell_type": "markdown",
   "id": "30bea226",
   "metadata": {},
   "source": [
    "The result is a Python Iterable just like a list, each element is a tag object:"
   ]
  },
  {
   "cell_type": "code",
   "execution_count": 75,
   "id": "342045e9",
   "metadata": {},
   "outputs": [
    {
     "data": {
      "text/plain": [
       "<tr><td id=\"flight\">Flight No</td><td>Launch site</td><td>Payload mass</td></tr>"
      ]
     },
     "execution_count": 75,
     "metadata": {},
     "output_type": "execute_result"
    }
   ],
   "source": [
    "first_row =table_rows[0]\n",
    "first_row"
   ]
  },
  {
   "cell_type": "markdown",
   "id": "967e8290",
   "metadata": {},
   "source": [
    "The type is tag"
   ]
  },
  {
   "cell_type": "code",
   "execution_count": 76,
   "id": "4bdfc91e",
   "metadata": {},
   "outputs": [
    {
     "name": "stdout",
     "output_type": "stream",
     "text": [
      "<class 'bs4.element.Tag'>\n"
     ]
    }
   ],
   "source": [
    "print(type(first_row))"
   ]
  },
  {
   "cell_type": "markdown",
   "id": "8c6464f3",
   "metadata": {},
   "source": [
    "we can obtain the child"
   ]
  },
  {
   "cell_type": "code",
   "execution_count": 77,
   "id": "2a2783f5",
   "metadata": {},
   "outputs": [
    {
     "data": {
      "text/plain": [
       "<td id=\"flight\">Flight No</td>"
      ]
     },
     "execution_count": 77,
     "metadata": {},
     "output_type": "execute_result"
    }
   ],
   "source": [
    "first_row.td"
   ]
  },
  {
   "cell_type": "markdown",
   "id": "99458840",
   "metadata": {},
   "source": [
    "If we iterate through the list, each element corresponds to a row in the table:"
   ]
  },
  {
   "cell_type": "code",
   "execution_count": 78,
   "id": "1952716f",
   "metadata": {},
   "outputs": [
    {
     "name": "stdout",
     "output_type": "stream",
     "text": [
      "row 0 is <tr><td id=\"flight\">Flight No</td><td>Launch site</td><td>Payload mass</td></tr>\n",
      "row 1 is <tr><td>1</td><td><a href=\"https://en.wikipedia.org/wiki/Florida\">Florida</a></td><td>300 kg</td></tr>\n",
      "row 2 is <tr><td>2</td><td><a href=\"https://en.wikipedia.org/wiki/Texas\">Texas</a></td><td>94 kg</td></tr>\n",
      "row 3 is <tr><td>3</td><td><a href=\"https://en.wikipedia.org/wiki/Florida\">Florida</a> </td><td>80 kg</td></tr>\n"
     ]
    }
   ],
   "source": [
    "for i,row in enumerate(table_rows):\n",
    "    print(\"row\",i,\"is\",row)\n",
    "    "
   ]
  },
  {
   "cell_type": "markdown",
   "id": "d1c8a468",
   "metadata": {},
   "source": [
    "As row is a cell object, we can apply the method find_all to it and extract table cells in the object cells using the tag td, this is all the children with the name td. The result is a list, each element corresponds to a cell and is a Tag object, we can iterate through this list as well. We can extract the content using the string attribute."
   ]
  },
  {
   "cell_type": "code",
   "execution_count": 79,
   "id": "e2b988ce",
   "metadata": {},
   "outputs": [
    {
     "name": "stdout",
     "output_type": "stream",
     "text": [
      "row 0\n",
      "colunm 0 cell <td id=\"flight\">Flight No</td>\n",
      "colunm 1 cell <td>Launch site</td>\n",
      "colunm 2 cell <td>Payload mass</td>\n",
      "row 1\n",
      "colunm 0 cell <td>1</td>\n",
      "colunm 1 cell <td><a href=\"https://en.wikipedia.org/wiki/Florida\">Florida</a></td>\n",
      "colunm 2 cell <td>300 kg</td>\n",
      "row 2\n",
      "colunm 0 cell <td>2</td>\n",
      "colunm 1 cell <td><a href=\"https://en.wikipedia.org/wiki/Texas\">Texas</a></td>\n",
      "colunm 2 cell <td>94 kg</td>\n",
      "row 3\n",
      "colunm 0 cell <td>3</td>\n",
      "colunm 1 cell <td><a href=\"https://en.wikipedia.org/wiki/Florida\">Florida</a> </td>\n",
      "colunm 2 cell <td>80 kg</td>\n"
     ]
    }
   ],
   "source": [
    "for i,row in enumerate(table_rows):\n",
    "    print(\"row\",i)\n",
    "    cells=row.find_all('td')\n",
    "    for j,cell in enumerate(cells):\n",
    "        print('colunm',j,\"cell\",cell)"
   ]
  },
  {
   "cell_type": "markdown",
   "id": "e80f888d",
   "metadata": {},
   "source": [
    "If we use a list we can match against any item in that list."
   ]
  },
  {
   "cell_type": "code",
   "execution_count": 80,
   "id": "bc0bdf6f",
   "metadata": {},
   "outputs": [
    {
     "data": {
      "text/plain": [
       "[<tr><td id=\"flight\">Flight No</td><td>Launch site</td><td>Payload mass</td></tr>,\n",
       " <td id=\"flight\">Flight No</td>,\n",
       " <td>Launch site</td>,\n",
       " <td>Payload mass</td>,\n",
       " <tr><td>1</td><td><a href=\"https://en.wikipedia.org/wiki/Florida\">Florida</a></td><td>300 kg</td></tr>,\n",
       " <td>1</td>,\n",
       " <td><a href=\"https://en.wikipedia.org/wiki/Florida\">Florida</a></td>,\n",
       " <td>300 kg</td>,\n",
       " <tr><td>2</td><td><a href=\"https://en.wikipedia.org/wiki/Texas\">Texas</a></td><td>94 kg</td></tr>,\n",
       " <td>2</td>,\n",
       " <td><a href=\"https://en.wikipedia.org/wiki/Texas\">Texas</a></td>,\n",
       " <td>94 kg</td>,\n",
       " <tr><td>3</td><td><a href=\"https://en.wikipedia.org/wiki/Florida\">Florida</a> </td><td>80 kg</td></tr>,\n",
       " <td>3</td>,\n",
       " <td><a href=\"https://en.wikipedia.org/wiki/Florida\">Florida</a> </td>,\n",
       " <td>80 kg</td>]"
      ]
     },
     "execution_count": 80,
     "metadata": {},
     "output_type": "execute_result"
    }
   ],
   "source": [
    "list_input=table_bs .find_all(name=[\"tr\", \"td\"])\n",
    "list_input"
   ]
  },
  {
   "cell_type": "markdown",
   "id": "fabd601a",
   "metadata": {},
   "source": [
    "## Attributes\n",
    "\n",
    "If the argument is not recognized it will be turned into a filter on the tag’s attributes. For example the id argument, Beautiful Soup will filter against each tag’s id attribute. For example, the first td elements have a value of id of flight, therefore we can filter based on that id value."
   ]
  },
  {
   "cell_type": "code",
   "execution_count": 81,
   "id": "47d2b329",
   "metadata": {},
   "outputs": [
    {
     "data": {
      "text/plain": [
       "[<td id=\"flight\">Flight No</td>]"
      ]
     },
     "execution_count": 81,
     "metadata": {},
     "output_type": "execute_result"
    }
   ],
   "source": [
    "table_bs.find_all(id=\"flight\")"
   ]
  },
  {
   "cell_type": "markdown",
   "id": "1c32c24b",
   "metadata": {},
   "source": [
    "We can find all the elements that have links to the Florida Wikipedia page:"
   ]
  },
  {
   "cell_type": "code",
   "execution_count": 82,
   "id": "9b5bda79",
   "metadata": {},
   "outputs": [
    {
     "data": {
      "text/plain": [
       "[<a href=\"https://en.wikipedia.org/wiki/Florida\">Florida</a>,\n",
       " <a href=\"https://en.wikipedia.org/wiki/Florida\">Florida</a>]"
      ]
     },
     "execution_count": 82,
     "metadata": {},
     "output_type": "execute_result"
    }
   ],
   "source": [
    "list_input=table_bs.find_all(href=\"https://en.wikipedia.org/wiki/Florida\")\n",
    "list_input"
   ]
  },
  {
   "cell_type": "markdown",
   "id": "9989c821",
   "metadata": {},
   "source": [
    "If we set the  <code>href</code> attribute to True, regardless of what the value is, the code finds all tags with <code>href</code> value:"
   ]
  },
  {
   "cell_type": "code",
   "execution_count": 83,
   "id": "fa2141c2",
   "metadata": {},
   "outputs": [
    {
     "data": {
      "text/plain": [
       "[<a href=\"https://en.wikipedia.org/wiki/Florida\">Florida</a>,\n",
       " <a href=\"https://en.wikipedia.org/wiki/Texas\">Texas</a>,\n",
       " <a href=\"https://en.wikipedia.org/wiki/Florida\">Florida</a>]"
      ]
     },
     "execution_count": 83,
     "metadata": {},
     "output_type": "execute_result"
    }
   ],
   "source": [
    "table_bs.find_all(href=True)"
   ]
  },
  {
   "cell_type": "markdown",
   "id": "d2d45766",
   "metadata": {},
   "source": [
    "# Exercise: find_all\n",
    "\n",
    "\n",
    "\n",
    "\n",
    "\n",
    "\n",
    "Using the logic above, find all the elements without href value"
   ]
  },
  {
   "cell_type": "code",
   "execution_count": 84,
   "id": "11721ae4",
   "metadata": {},
   "outputs": [
    {
     "data": {
      "text/plain": [
       "[]"
      ]
     },
     "execution_count": 84,
     "metadata": {},
     "output_type": "execute_result"
    }
   ],
   "source": [
    "table_bs.find_all('a', href=False)"
   ]
  },
  {
   "cell_type": "markdown",
   "id": "45759507",
   "metadata": {},
   "source": [
    "Using the soup object <code>soup</code>, find the element with the <code>id</code> attribute content set to <code>\"boldest\"</code>."
   ]
  },
  {
   "cell_type": "code",
   "execution_count": 85,
   "id": "30b30f44",
   "metadata": {},
   "outputs": [
    {
     "data": {
      "text/plain": [
       "[<b id=\"boldest\">Lebron James</b>]"
      ]
     },
     "execution_count": 85,
     "metadata": {},
     "output_type": "execute_result"
    }
   ],
   "source": [
    "soup.find_all(id=\"boldest\")"
   ]
  },
  {
   "cell_type": "markdown",
   "id": "276fbfcc",
   "metadata": {},
   "source": [
    "## string\n",
    "\n",
    "With string you can search for strings instead of tags, where we find all the elments with Florida:\n"
   ]
  },
  {
   "cell_type": "code",
   "execution_count": 86,
   "id": "f3644ced",
   "metadata": {},
   "outputs": [
    {
     "data": {
      "text/plain": [
       "['Florida', 'Florida']"
      ]
     },
     "execution_count": 86,
     "metadata": {},
     "output_type": "execute_result"
    }
   ],
   "source": [
    "table_bs.find_all(string=\"Florida\")"
   ]
  },
  {
   "cell_type": "markdown",
   "id": "192e719d",
   "metadata": {},
   "source": [
    "## find\n",
    "The find_all() method scans the entire document looking for results, it’s if you are looking for one element you can use the find() method to find the first element in the document. Consider the following two table:"
   ]
  },
  {
   "cell_type": "code",
   "execution_count": 87,
   "id": "458f9706",
   "metadata": {},
   "outputs": [
    {
     "data": {
      "text/html": [
       "<h3>Rocket Launch </h3>\n",
       "\n",
       "<p>\n",
       "<table class='rocket'>\n",
       "  <tr>\n",
       "    <td>Flight No</td>\n",
       "    <td>Launch site</td> \n",
       "    <td>Payload mass</td>\n",
       "  </tr>\n",
       "  <tr>\n",
       "    <td>1</td>\n",
       "    <td>Florida</td>\n",
       "    <td>300 kg</td>\n",
       "  </tr>\n",
       "  <tr>\n",
       "    <td>2</td>\n",
       "    <td>Texas</td>\n",
       "    <td>94 kg</td>\n",
       "  </tr>\n",
       "  <tr>\n",
       "    <td>3</td>\n",
       "    <td>Florida </td>\n",
       "    <td>80 kg</td>\n",
       "  </tr>\n",
       "</table>\n",
       "</p>\n",
       "<p>\n",
       "\n",
       "<h3>Pizza Party  </h3>\n",
       "  \n",
       "    \n",
       "<table class='pizza'>\n",
       "  <tr>\n",
       "    <td>Pizza Place</td>\n",
       "    <td>Orders</td> \n",
       "    <td>Slices </td>\n",
       "   </tr>\n",
       "  <tr>\n",
       "    <td>Domino's Pizza</td>\n",
       "    <td>10</td>\n",
       "    <td>100</td>\n",
       "  </tr>\n",
       "  <tr>\n",
       "    <td>Little Caesars</td>\n",
       "    <td>12</td>\n",
       "    <td >144 </td>\n",
       "  </tr>\n",
       "  <tr>\n",
       "    <td>Papa John's </td>\n",
       "    <td>15 </td>\n",
       "    <td>165</td>\n",
       "  </tr>\n"
      ],
      "text/plain": [
       "<IPython.core.display.HTML object>"
      ]
     },
     "metadata": {},
     "output_type": "display_data"
    }
   ],
   "source": [
    "%%html\n",
    "<h3>Rocket Launch </h3>\n",
    "\n",
    "<p>\n",
    "<table class='rocket'>\n",
    "  <tr>\n",
    "    <td>Flight No</td>\n",
    "    <td>Launch site</td> \n",
    "    <td>Payload mass</td>\n",
    "  </tr>\n",
    "  <tr>\n",
    "    <td>1</td>\n",
    "    <td>Florida</td>\n",
    "    <td>300 kg</td>\n",
    "  </tr>\n",
    "  <tr>\n",
    "    <td>2</td>\n",
    "    <td>Texas</td>\n",
    "    <td>94 kg</td>\n",
    "  </tr>\n",
    "  <tr>\n",
    "    <td>3</td>\n",
    "    <td>Florida </td>\n",
    "    <td>80 kg</td>\n",
    "  </tr>\n",
    "</table>\n",
    "</p>\n",
    "<p>\n",
    "\n",
    "<h3>Pizza Party  </h3>\n",
    "  \n",
    "    \n",
    "<table class='pizza'>\n",
    "  <tr>\n",
    "    <td>Pizza Place</td>\n",
    "    <td>Orders</td> \n",
    "    <td>Slices </td>\n",
    "   </tr>\n",
    "  <tr>\n",
    "    <td>Domino's Pizza</td>\n",
    "    <td>10</td>\n",
    "    <td>100</td>\n",
    "  </tr>\n",
    "  <tr>\n",
    "    <td>Little Caesars</td>\n",
    "    <td>12</td>\n",
    "    <td >144 </td>\n",
    "  </tr>\n",
    "  <tr>\n",
    "    <td>Papa John's </td>\n",
    "    <td>15 </td>\n",
    "    <td>165</td>\n",
    "  </tr>\n"
   ]
  },
  {
   "cell_type": "markdown",
   "id": "c7764a62",
   "metadata": {},
   "source": [
    "We store the HTML as a Python string and assign two_tables:"
   ]
  },
  {
   "cell_type": "code",
   "execution_count": 88,
   "id": "cb5d7b69",
   "metadata": {},
   "outputs": [],
   "source": [
    "two_tables=\"<h3>Rocket Launch </h3><p><table class='rocket'><tr><td>Flight No</td><td>Launch site</td> <td>Payload mass</td></tr><tr><td>1</td><td>Florida</td><td>300 kg</td></tr><tr><td>2</td><td>Texas</td><td>94 kg</td></tr><tr><td>3</td><td>Florida </td><td>80 kg</td></tr></table></p><p><h3>Pizza Party  </h3><table class='pizza'><tr><td>Pizza Place</td><td>Orders</td> <td>Slices </td></tr><tr><td>Domino's Pizza</td><td>10</td><td>100</td></tr><tr><td>Little Caesars</td><td>12</td><td >144 </td></tr><tr><td>Papa John's </td><td>15 </td><td>165</td></tr>\""
   ]
  },
  {
   "cell_type": "markdown",
   "id": "e0b69f76",
   "metadata": {},
   "source": [
    "We create a <code>BeautifulSoup</code> object  <code>two_tables_bs</code>"
   ]
  },
  {
   "cell_type": "code",
   "execution_count": 89,
   "id": "cfc343ff",
   "metadata": {},
   "outputs": [],
   "source": [
    "two_tables_bs= BeautifulSoup(two_tables, 'html.parser')"
   ]
  },
  {
   "cell_type": "markdown",
   "id": "951d6647",
   "metadata": {},
   "source": [
    "We can find the first table using the tag name table"
   ]
  },
  {
   "cell_type": "code",
   "execution_count": 90,
   "id": "e69b7aee",
   "metadata": {},
   "outputs": [
    {
     "data": {
      "text/plain": [
       "<table class=\"rocket\"><tr><td>Flight No</td><td>Launch site</td> <td>Payload mass</td></tr><tr><td>1</td><td>Florida</td><td>300 kg</td></tr><tr><td>2</td><td>Texas</td><td>94 kg</td></tr><tr><td>3</td><td>Florida </td><td>80 kg</td></tr></table>"
      ]
     },
     "execution_count": 90,
     "metadata": {},
     "output_type": "execute_result"
    }
   ],
   "source": [
    "two_tables_bs.find(\"table\")"
   ]
  },
  {
   "cell_type": "code",
   "execution_count": 91,
   "id": "57b2d81f",
   "metadata": {},
   "outputs": [
    {
     "data": {
      "text/plain": [
       "<table class=\"pizza\"><tr><td>Pizza Place</td><td>Orders</td> <td>Slices </td></tr><tr><td>Domino's Pizza</td><td>10</td><td>100</td></tr><tr><td>Little Caesars</td><td>12</td><td>144 </td></tr><tr><td>Papa John's </td><td>15 </td><td>165</td></tr></table>"
      ]
     },
     "execution_count": 91,
     "metadata": {},
     "output_type": "execute_result"
    }
   ],
   "source": [
    "two_tables_bs.find(\"table\",class_='pizza')"
   ]
  },
  {
   "cell_type": "markdown",
   "id": "e5a8366e",
   "metadata": {},
   "source": [
    "## Downloading And Scraping The Contents Of A Web Page\n",
    "We Download the contents of the web page:"
   ]
  },
  {
   "cell_type": "code",
   "execution_count": 97,
   "id": "49bbac4f",
   "metadata": {},
   "outputs": [],
   "source": [
    "url = \"http://www.ibm.com\""
   ]
  },
  {
   "cell_type": "markdown",
   "id": "aa1ff490",
   "metadata": {},
   "source": [
    "We use <code>get</code> to download the contents of the webpage in text format and store in a variable called <code>data</code>:\n"
   ]
  },
  {
   "cell_type": "code",
   "execution_count": 99,
   "id": "e2a32c60",
   "metadata": {},
   "outputs": [],
   "source": [
    "data  = requests.get(url).text "
   ]
  },
  {
   "cell_type": "markdown",
   "id": "d47344d2",
   "metadata": {},
   "source": [
    "Scrape all images Tags"
   ]
  },
  {
   "cell_type": "markdown",
   "id": "09c8517a",
   "metadata": {},
   "source": [
    "We create a <code>BeautifulSoup</code> object using the <code>BeautifulSoup</code> constructor"
   ]
  },
  {
   "cell_type": "code",
   "execution_count": 100,
   "id": "253a2eb5",
   "metadata": {},
   "outputs": [],
   "source": [
    "soup = BeautifulSoup(data,\"html.parser\")  # create a soup object using the variable 'data'"
   ]
  },
  {
   "cell_type": "markdown",
   "id": "ef0e28a5",
   "metadata": {},
   "source": [
    "Scrape all links"
   ]
  },
  {
   "cell_type": "code",
   "execution_count": 101,
   "id": "35463b02",
   "metadata": {},
   "outputs": [
    {
     "name": "stdout",
     "output_type": "stream",
     "text": [
      "https://www.ibm.com/cloud?lnk=hpUSbt1\n"
     ]
    }
   ],
   "source": [
    "for link in soup.find_all('a',href=True):  # in html anchor/link is represented by the tag <a>\n",
    "\n",
    "    print(link.get('href'))\n"
   ]
  },
  {
   "cell_type": "markdown",
   "id": "ee442f0f",
   "metadata": {},
   "source": [
    "## Scrape all images Tags"
   ]
  },
  {
   "cell_type": "code",
   "execution_count": 102,
   "id": "d6b73478",
   "metadata": {},
   "outputs": [],
   "source": [
    "for link in soup.find_all('img'):# in html image is represented by the tag <img>\n",
    "    print(link)\n",
    "    print(link.get('src'))"
   ]
  },
  {
   "cell_type": "markdown",
   "id": "e83b0d0f",
   "metadata": {},
   "source": [
    "## Scrape data from HTML tables"
   ]
  },
  {
   "cell_type": "code",
   "execution_count": 103,
   "id": "106530c3",
   "metadata": {},
   "outputs": [],
   "source": [
    "#The below url contains an html table with data about colors and color codes.\n",
    "url = \"https://cf-courses-data.s3.us.cloud-object-storage.appdomain.cloud/IBM-DA0321EN-SkillsNetwork/labs/datasets/HTMLColorCodes.html\""
   ]
  },
  {
   "cell_type": "markdown",
   "id": "15cdc244",
   "metadata": {},
   "source": [
    "Before proceeding to scrape a web site, you need to examine the contents, and the way data is organized on the website. Open the above url in your browser and check how many rows and columns are there in the color table.\n"
   ]
  },
  {
   "cell_type": "code",
   "execution_count": 104,
   "id": "1172abe8",
   "metadata": {},
   "outputs": [],
   "source": [
    "# get the contents of the webpage in text format and store in a variable called data\n",
    "data  = requests.get(url).text"
   ]
  },
  {
   "cell_type": "code",
   "execution_count": 105,
   "id": "28316b85",
   "metadata": {},
   "outputs": [],
   "source": [
    "soup = BeautifulSoup(data,\"html.parser\")"
   ]
  },
  {
   "cell_type": "code",
   "execution_count": 106,
   "id": "e12a4f39",
   "metadata": {},
   "outputs": [],
   "source": [
    "#find a html table in the web page\n",
    "table = soup.find('table') # in html table is represented by the tag <table>"
   ]
  },
  {
   "cell_type": "code",
   "execution_count": 107,
   "id": "bd08fdcd",
   "metadata": {},
   "outputs": [
    {
     "name": "stdout",
     "output_type": "stream",
     "text": [
      "Color Name--->None\n",
      "lightsalmon--->#FFA07A\n",
      "salmon--->#FA8072\n",
      "darksalmon--->#E9967A\n",
      "lightcoral--->#F08080\n",
      "coral--->#FF7F50\n",
      "tomato--->#FF6347\n",
      "orangered--->#FF4500\n",
      "gold--->#FFD700\n",
      "orange--->#FFA500\n",
      "darkorange--->#FF8C00\n",
      "lightyellow--->#FFFFE0\n",
      "lemonchiffon--->#FFFACD\n",
      "papayawhip--->#FFEFD5\n",
      "moccasin--->#FFE4B5\n",
      "peachpuff--->#FFDAB9\n",
      "palegoldenrod--->#EEE8AA\n",
      "khaki--->#F0E68C\n",
      "darkkhaki--->#BDB76B\n",
      "yellow--->#FFFF00\n",
      "lawngreen--->#7CFC00\n",
      "chartreuse--->#7FFF00\n",
      "limegreen--->#32CD32\n",
      "lime--->#00FF00\n",
      "forestgreen--->#228B22\n",
      "green--->#008000\n",
      "powderblue--->#B0E0E6\n",
      "lightblue--->#ADD8E6\n",
      "lightskyblue--->#87CEFA\n",
      "skyblue--->#87CEEB\n",
      "deepskyblue--->#00BFFF\n",
      "lightsteelblue--->#B0C4DE\n",
      "dodgerblue--->#1E90FF\n"
     ]
    }
   ],
   "source": [
    "#Get all rows from the table\n",
    "for row in table.find_all('tr'): # in html table row is represented by the tag <tr>\n",
    "    # Get all columns in each row.\n",
    "    cols = row.find_all('td') # in html a column is represented by the tag <td>\n",
    "    color_name = cols[2].string # store the value in column 3 as color_name\n",
    "    color_code = cols[3].string # store the value in column 4 as color_code\n",
    "    print(\"{}--->{}\".format(color_name,color_code))"
   ]
  },
  {
   "cell_type": "markdown",
   "id": "1687e91b",
   "metadata": {},
   "source": [
    "## Scrape data from HTML tables into a DataFrame using BeautifulSoup and Pandas\n"
   ]
  },
  {
   "cell_type": "code",
   "execution_count": 113,
   "id": "01a99808",
   "metadata": {},
   "outputs": [],
   "source": [
    "import pandas as pd"
   ]
  },
  {
   "cell_type": "code",
   "execution_count": 114,
   "id": "f0bc943c",
   "metadata": {},
   "outputs": [],
   "source": [
    "#The below url contains html tables with data about world population.\n",
    "url = \"https://en.wikipedia.org/wiki/World_population\""
   ]
  },
  {
   "cell_type": "markdown",
   "id": "280d76c6",
   "metadata": {},
   "source": [
    "Before proceeding to scrape a web site, you need to examine the contents, and the way data is organized on the website. Open the above url in your browser and check the tables on the webpage."
   ]
  },
  {
   "cell_type": "code",
   "execution_count": 115,
   "id": "460b7cf7",
   "metadata": {},
   "outputs": [],
   "source": [
    "# get the contents of the webpage in text format and store in a variable called data\n",
    "data  = requests.get(url).text"
   ]
  },
  {
   "cell_type": "code",
   "execution_count": 116,
   "id": "6dba06ff",
   "metadata": {},
   "outputs": [],
   "source": [
    "soup = BeautifulSoup(data,\"html.parser\")"
   ]
  },
  {
   "cell_type": "code",
   "execution_count": 117,
   "id": "9e03ee6e",
   "metadata": {},
   "outputs": [],
   "source": [
    "#find all html tables in the web page\n",
    "tables = soup.find_all('table') # in html table is represented by the tag <table>"
   ]
  },
  {
   "cell_type": "code",
   "execution_count": 118,
   "id": "3498b14f",
   "metadata": {},
   "outputs": [
    {
     "data": {
      "text/plain": [
       "30"
      ]
     },
     "execution_count": 118,
     "metadata": {},
     "output_type": "execute_result"
    }
   ],
   "source": [
    "# we can see how many tables were found by checking the length of the tables list\n",
    "len(tables)"
   ]
  },
  {
   "cell_type": "markdown",
   "id": "769e4fe2",
   "metadata": {},
   "source": [
    "Assume that we are looking for the 10 most densly populated countries table, we can look through the tables list and find the right one we are look for based on the data in each table or we can search for the table name if it is in the table but this option might not always work."
   ]
  },
  {
   "cell_type": "code",
   "execution_count": 119,
   "id": "74daa1f9",
   "metadata": {},
   "outputs": [
    {
     "name": "stdout",
     "output_type": "stream",
     "text": [
      "7\n"
     ]
    }
   ],
   "source": [
    "for index,table in enumerate(tables):\n",
    "    if (\"10 most densely populated countries\" in str(table)):\n",
    "        table_index = index\n",
    "print(table_index)"
   ]
  },
  {
   "cell_type": "markdown",
   "id": "92688a6b",
   "metadata": {},
   "source": [
    "See if you can locate the table name of the table, `10 most densly populated countries`, below.\n"
   ]
  },
  {
   "cell_type": "code",
   "execution_count": 120,
   "id": "4f477033",
   "metadata": {},
   "outputs": [
    {
     "name": "stdout",
     "output_type": "stream",
     "text": [
      "<table class=\"wikitable sortable\" style=\"text-align:right\">\n",
      " <caption>\n",
      "  10 most densely populated countries\n",
      "  <small>\n",
      "   (with population above 5 million)\n",
      "  </small>\n",
      "  <sup class=\"reference\" id=\"cite_ref-:10_107-0\">\n",
      "   <a href=\"#cite_note-:10-107\">\n",
      "    [102]\n",
      "   </a>\n",
      "  </sup>\n",
      " </caption>\n",
      " <tbody>\n",
      "  <tr>\n",
      "   <th scope=\"col\">\n",
      "    Rank\n",
      "   </th>\n",
      "   <th scope=\"col\">\n",
      "    Country\n",
      "   </th>\n",
      "   <th scope=\"col\">\n",
      "    Population\n",
      "   </th>\n",
      "   <th scope=\"col\">\n",
      "    Area\n",
      "    <br/>\n",
      "    <small>\n",
      "     (km\n",
      "     <sup>\n",
      "      2\n",
      "     </sup>\n",
      "     )\n",
      "    </small>\n",
      "   </th>\n",
      "   <th scope=\"col\">\n",
      "    Density\n",
      "    <br/>\n",
      "    <small>\n",
      "     (pop/km\n",
      "     <sup>\n",
      "      2\n",
      "     </sup>\n",
      "     )\n",
      "    </small>\n",
      "   </th>\n",
      "  </tr>\n",
      "  <tr>\n",
      "   <td>\n",
      "    1\n",
      "   </td>\n",
      "   <td align=\"left\">\n",
      "    <span class=\"flagicon\">\n",
      "     <span class=\"mw-image-border\" typeof=\"mw:File\">\n",
      "      <span>\n",
      "       <img alt=\"\" class=\"mw-file-element\" data-file-height=\"600\" data-file-width=\"900\" decoding=\"async\" height=\"15\" src=\"//upload.wikimedia.org/wikipedia/commons/thumb/4/48/Flag_of_Singapore.svg/23px-Flag_of_Singapore.svg.png\" srcset=\"//upload.wikimedia.org/wikipedia/commons/thumb/4/48/Flag_of_Singapore.svg/35px-Flag_of_Singapore.svg.png 1.5x, //upload.wikimedia.org/wikipedia/commons/thumb/4/48/Flag_of_Singapore.svg/45px-Flag_of_Singapore.svg.png 2x\" width=\"23\"/>\n",
      "      </span>\n",
      "     </span>\n",
      "    </span>\n",
      "    <a href=\"/wiki/Singapore\" title=\"Singapore\">\n",
      "     Singapore\n",
      "    </a>\n",
      "   </td>\n",
      "   <td>\n",
      "    5,921,231\n",
      "   </td>\n",
      "   <td>\n",
      "    719\n",
      "   </td>\n",
      "   <td>\n",
      "    8,235\n",
      "   </td>\n",
      "  </tr>\n",
      "  <tr>\n",
      "   <td>\n",
      "    2\n",
      "   </td>\n",
      "   <td align=\"left\">\n",
      "    <span class=\"flagicon\">\n",
      "     <span class=\"mw-image-border\" typeof=\"mw:File\">\n",
      "      <span>\n",
      "       <img alt=\"\" class=\"mw-file-element\" data-file-height=\"600\" data-file-width=\"1000\" decoding=\"async\" height=\"14\" src=\"//upload.wikimedia.org/wikipedia/commons/thumb/f/f9/Flag_of_Bangladesh.svg/23px-Flag_of_Bangladesh.svg.png\" srcset=\"//upload.wikimedia.org/wikipedia/commons/thumb/f/f9/Flag_of_Bangladesh.svg/35px-Flag_of_Bangladesh.svg.png 1.5x, //upload.wikimedia.org/wikipedia/commons/thumb/f/f9/Flag_of_Bangladesh.svg/46px-Flag_of_Bangladesh.svg.png 2x\" width=\"23\"/>\n",
      "      </span>\n",
      "     </span>\n",
      "    </span>\n",
      "    <a href=\"/wiki/Bangladesh\" title=\"Bangladesh\">\n",
      "     Bangladesh\n",
      "    </a>\n",
      "   </td>\n",
      "   <td>\n",
      "    165,650,475\n",
      "   </td>\n",
      "   <td>\n",
      "    148,460\n",
      "   </td>\n",
      "   <td>\n",
      "    1,116\n",
      "   </td>\n",
      "  </tr>\n",
      "  <tr>\n",
      "   <td>\n",
      "    3\n",
      "   </td>\n",
      "   <td align=\"left\">\n",
      "    <p>\n",
      "     <span class=\"flagicon\">\n",
      "      <span class=\"mw-image-border\" typeof=\"mw:File\">\n",
      "       <span>\n",
      "        <img alt=\"\" class=\"mw-file-element\" data-file-height=\"600\" data-file-width=\"1200\" decoding=\"async\" height=\"12\" src=\"//upload.wikimedia.org/wikipedia/commons/thumb/0/00/Flag_of_Palestine.svg/23px-Flag_of_Palestine.svg.png\" srcset=\"//upload.wikimedia.org/wikipedia/commons/thumb/0/00/Flag_of_Palestine.svg/35px-Flag_of_Palestine.svg.png 1.5x, //upload.wikimedia.org/wikipedia/commons/thumb/0/00/Flag_of_Palestine.svg/46px-Flag_of_Palestine.svg.png 2x\" width=\"23\"/>\n",
      "       </span>\n",
      "      </span>\n",
      "     </span>\n",
      "     <a href=\"/wiki/State_of_Palestine\" title=\"State of Palestine\">\n",
      "      Palestine\n",
      "     </a>\n",
      "     <sup class=\"reference\" id=\"cite_ref-108\">\n",
      "      <a href=\"#cite_note-108\">\n",
      "       [note 3]\n",
      "      </a>\n",
      "     </sup>\n",
      "     <sup class=\"reference\" id=\"cite_ref-109\">\n",
      "      <a href=\"#cite_note-109\">\n",
      "       [103]\n",
      "      </a>\n",
      "     </sup>\n",
      "    </p>\n",
      "   </td>\n",
      "   <td>\n",
      "    5,223,000\n",
      "   </td>\n",
      "   <td>\n",
      "    6,025\n",
      "   </td>\n",
      "   <td>\n",
      "    867\n",
      "   </td>\n",
      "  </tr>\n",
      "  <tr>\n",
      "   <td>\n",
      "    4\n",
      "   </td>\n",
      "   <td align=\"left\">\n",
      "    <span class=\"flagicon\">\n",
      "     <span class=\"mw-image-border\" typeof=\"mw:File\">\n",
      "      <span>\n",
      "       <img alt=\"\" class=\"mw-file-element\" data-file-height=\"600\" data-file-width=\"900\" decoding=\"async\" height=\"15\" src=\"//upload.wikimedia.org/wikipedia/commons/thumb/7/72/Flag_of_the_Republic_of_China.svg/23px-Flag_of_the_Republic_of_China.svg.png\" srcset=\"//upload.wikimedia.org/wikipedia/commons/thumb/7/72/Flag_of_the_Republic_of_China.svg/35px-Flag_of_the_Republic_of_China.svg.png 1.5x, //upload.wikimedia.org/wikipedia/commons/thumb/7/72/Flag_of_the_Republic_of_China.svg/45px-Flag_of_the_Republic_of_China.svg.png 2x\" width=\"23\"/>\n",
      "      </span>\n",
      "     </span>\n",
      "    </span>\n",
      "    <a href=\"/wiki/Taiwan\" title=\"Taiwan\">\n",
      "     Taiwan\n",
      "    </a>\n",
      "    <sup class=\"reference\" id=\"cite_ref-110\">\n",
      "     <a href=\"#cite_note-110\">\n",
      "      [note 4]\n",
      "     </a>\n",
      "    </sup>\n",
      "   </td>\n",
      "   <td>\n",
      "    23,580,712\n",
      "   </td>\n",
      "   <td>\n",
      "    35,980\n",
      "   </td>\n",
      "   <td>\n",
      "    655\n",
      "   </td>\n",
      "  </tr>\n",
      "  <tr>\n",
      "   <td>\n",
      "    5\n",
      "   </td>\n",
      "   <td align=\"left\">\n",
      "    <span class=\"flagicon\">\n",
      "     <span class=\"mw-image-border\" typeof=\"mw:File\">\n",
      "      <span>\n",
      "       <img alt=\"\" class=\"mw-file-element\" data-file-height=\"600\" data-file-width=\"900\" decoding=\"async\" height=\"15\" src=\"//upload.wikimedia.org/wikipedia/commons/thumb/0/09/Flag_of_South_Korea.svg/23px-Flag_of_South_Korea.svg.png\" srcset=\"//upload.wikimedia.org/wikipedia/commons/thumb/0/09/Flag_of_South_Korea.svg/35px-Flag_of_South_Korea.svg.png 1.5x, //upload.wikimedia.org/wikipedia/commons/thumb/0/09/Flag_of_South_Korea.svg/45px-Flag_of_South_Korea.svg.png 2x\" width=\"23\"/>\n",
      "      </span>\n",
      "     </span>\n",
      "    </span>\n",
      "    <a href=\"/wiki/South_Korea\" title=\"South Korea\">\n",
      "     South Korea\n",
      "    </a>\n",
      "   </td>\n",
      "   <td>\n",
      "    51,844,834\n",
      "   </td>\n",
      "   <td>\n",
      "    99,720\n",
      "   </td>\n",
      "   <td>\n",
      "    520\n",
      "   </td>\n",
      "  </tr>\n",
      "  <tr>\n",
      "   <td>\n",
      "    6\n",
      "   </td>\n",
      "   <td align=\"left\">\n",
      "    <span class=\"flagicon\">\n",
      "     <span class=\"mw-image-border\" typeof=\"mw:File\">\n",
      "      <span>\n",
      "       <img alt=\"\" class=\"mw-file-element\" data-file-height=\"600\" data-file-width=\"900\" decoding=\"async\" height=\"15\" src=\"//upload.wikimedia.org/wikipedia/commons/thumb/5/59/Flag_of_Lebanon.svg/23px-Flag_of_Lebanon.svg.png\" srcset=\"//upload.wikimedia.org/wikipedia/commons/thumb/5/59/Flag_of_Lebanon.svg/35px-Flag_of_Lebanon.svg.png 1.5x, //upload.wikimedia.org/wikipedia/commons/thumb/5/59/Flag_of_Lebanon.svg/45px-Flag_of_Lebanon.svg.png 2x\" width=\"23\"/>\n",
      "      </span>\n",
      "     </span>\n",
      "    </span>\n",
      "    <a href=\"/wiki/Lebanon\" title=\"Lebanon\">\n",
      "     Lebanon\n",
      "    </a>\n",
      "   </td>\n",
      "   <td>\n",
      "    5,296,814\n",
      "   </td>\n",
      "   <td>\n",
      "    10,400\n",
      "   </td>\n",
      "   <td>\n",
      "    509\n",
      "   </td>\n",
      "  </tr>\n",
      "  <tr>\n",
      "   <td>\n",
      "    7\n",
      "   </td>\n",
      "   <td align=\"left\">\n",
      "    <span class=\"flagicon\">\n",
      "     <span class=\"mw-image-border\" typeof=\"mw:File\">\n",
      "      <span>\n",
      "       <img alt=\"\" class=\"mw-file-element\" data-file-height=\"600\" data-file-width=\"900\" decoding=\"async\" height=\"15\" src=\"//upload.wikimedia.org/wikipedia/commons/thumb/1/17/Flag_of_Rwanda.svg/23px-Flag_of_Rwanda.svg.png\" srcset=\"//upload.wikimedia.org/wikipedia/commons/thumb/1/17/Flag_of_Rwanda.svg/35px-Flag_of_Rwanda.svg.png 1.5x, //upload.wikimedia.org/wikipedia/commons/thumb/1/17/Flag_of_Rwanda.svg/45px-Flag_of_Rwanda.svg.png 2x\" width=\"23\"/>\n",
      "      </span>\n",
      "     </span>\n",
      "    </span>\n",
      "    <a href=\"/wiki/Rwanda\" title=\"Rwanda\">\n",
      "     Rwanda\n",
      "    </a>\n",
      "   </td>\n",
      "   <td>\n",
      "    13,173,730\n",
      "   </td>\n",
      "   <td>\n",
      "    26,338\n",
      "   </td>\n",
      "   <td>\n",
      "    500\n",
      "   </td>\n",
      "  </tr>\n",
      "  <tr>\n",
      "   <td>\n",
      "    8\n",
      "   </td>\n",
      "   <td align=\"left\">\n",
      "    <span class=\"flagicon\">\n",
      "     <span class=\"mw-image-border\" typeof=\"mw:File\">\n",
      "      <span>\n",
      "       <img alt=\"\" class=\"mw-file-element\" data-file-height=\"600\" data-file-width=\"1000\" decoding=\"async\" height=\"14\" src=\"//upload.wikimedia.org/wikipedia/commons/thumb/5/50/Flag_of_Burundi.svg/23px-Flag_of_Burundi.svg.png\" srcset=\"//upload.wikimedia.org/wikipedia/commons/thumb/5/50/Flag_of_Burundi.svg/35px-Flag_of_Burundi.svg.png 1.5x, //upload.wikimedia.org/wikipedia/commons/thumb/5/50/Flag_of_Burundi.svg/46px-Flag_of_Burundi.svg.png 2x\" width=\"23\"/>\n",
      "      </span>\n",
      "     </span>\n",
      "    </span>\n",
      "    <a href=\"/wiki/Burundi\" title=\"Burundi\">\n",
      "     Burundi\n",
      "    </a>\n",
      "   </td>\n",
      "   <td>\n",
      "    12,696,478\n",
      "   </td>\n",
      "   <td>\n",
      "    27,830\n",
      "   </td>\n",
      "   <td>\n",
      "    456\n",
      "   </td>\n",
      "  </tr>\n",
      "  <tr>\n",
      "   <td>\n",
      "    9\n",
      "   </td>\n",
      "   <td align=\"left\">\n",
      "    <span class=\"flagicon\">\n",
      "     <span class=\"mw-image-border\" typeof=\"mw:File\">\n",
      "      <span>\n",
      "       <img alt=\"\" class=\"mw-file-element\" data-file-height=\"600\" data-file-width=\"900\" decoding=\"async\" height=\"15\" src=\"//upload.wikimedia.org/wikipedia/en/thumb/4/41/Flag_of_India.svg/23px-Flag_of_India.svg.png\" srcset=\"//upload.wikimedia.org/wikipedia/en/thumb/4/41/Flag_of_India.svg/35px-Flag_of_India.svg.png 1.5x, //upload.wikimedia.org/wikipedia/en/thumb/4/41/Flag_of_India.svg/45px-Flag_of_India.svg.png 2x\" width=\"23\"/>\n",
      "      </span>\n",
      "     </span>\n",
      "    </span>\n",
      "    <a href=\"/wiki/India\" title=\"India\">\n",
      "     India\n",
      "    </a>\n",
      "   </td>\n",
      "   <td>\n",
      "    1,389,637,446\n",
      "   </td>\n",
      "   <td>\n",
      "    3,287,263\n",
      "   </td>\n",
      "   <td>\n",
      "    423\n",
      "   </td>\n",
      "  </tr>\n",
      "  <tr>\n",
      "   <td>\n",
      "    10\n",
      "   </td>\n",
      "   <td align=\"left\">\n",
      "    <span class=\"flagicon\">\n",
      "     <span class=\"mw-image-border\" typeof=\"mw:File\">\n",
      "      <span>\n",
      "       <img alt=\"\" class=\"mw-file-element\" data-file-height=\"600\" data-file-width=\"900\" decoding=\"async\" height=\"15\" src=\"//upload.wikimedia.org/wikipedia/commons/thumb/2/20/Flag_of_the_Netherlands.svg/23px-Flag_of_the_Netherlands.svg.png\" srcset=\"//upload.wikimedia.org/wikipedia/commons/thumb/2/20/Flag_of_the_Netherlands.svg/35px-Flag_of_the_Netherlands.svg.png 1.5x, //upload.wikimedia.org/wikipedia/commons/thumb/2/20/Flag_of_the_Netherlands.svg/45px-Flag_of_the_Netherlands.svg.png 2x\" width=\"23\"/>\n",
      "      </span>\n",
      "     </span>\n",
      "    </span>\n",
      "    <a href=\"/wiki/Netherlands\" title=\"Netherlands\">\n",
      "     Netherlands\n",
      "    </a>\n",
      "   </td>\n",
      "   <td>\n",
      "    17,400,824\n",
      "   </td>\n",
      "   <td>\n",
      "    41,543\n",
      "   </td>\n",
      "   <td>\n",
      "    419\n",
      "   </td>\n",
      "  </tr>\n",
      " </tbody>\n",
      "</table>\n",
      "\n"
     ]
    }
   ],
   "source": [
    "print(tables[table_index].prettify())"
   ]
  },
  {
   "cell_type": "code",
   "execution_count": 121,
   "id": "394a0f70",
   "metadata": {},
   "outputs": [
    {
     "ename": "AttributeError",
     "evalue": "'DataFrame' object has no attribute 'append'",
     "output_type": "error",
     "traceback": [
      "\u001b[0;31m---------------------------------------------------------------------------\u001b[0m",
      "\u001b[0;31mAttributeError\u001b[0m                            Traceback (most recent call last)",
      "\u001b[0;32m/var/folders/5z/9t04r1kd1mgbwhbw8jst7rvr0000gn/T/ipykernel_64313/394869253.py\u001b[0m in \u001b[0;36m?\u001b[0;34m()\u001b[0m\n\u001b[1;32m      7\u001b[0m         \u001b[0mcountry\u001b[0m \u001b[0;34m=\u001b[0m \u001b[0mcol\u001b[0m\u001b[0;34m[\u001b[0m\u001b[0;36m1\u001b[0m\u001b[0;34m]\u001b[0m\u001b[0;34m.\u001b[0m\u001b[0mtext\u001b[0m\u001b[0;34m\u001b[0m\u001b[0;34m\u001b[0m\u001b[0m\n\u001b[1;32m      8\u001b[0m         \u001b[0mpopulation\u001b[0m \u001b[0;34m=\u001b[0m \u001b[0mcol\u001b[0m\u001b[0;34m[\u001b[0m\u001b[0;36m2\u001b[0m\u001b[0;34m]\u001b[0m\u001b[0;34m.\u001b[0m\u001b[0mtext\u001b[0m\u001b[0;34m.\u001b[0m\u001b[0mstrip\u001b[0m\u001b[0;34m(\u001b[0m\u001b[0;34m)\u001b[0m\u001b[0;34m\u001b[0m\u001b[0;34m\u001b[0m\u001b[0m\n\u001b[1;32m      9\u001b[0m         \u001b[0marea\u001b[0m \u001b[0;34m=\u001b[0m \u001b[0mcol\u001b[0m\u001b[0;34m[\u001b[0m\u001b[0;36m3\u001b[0m\u001b[0;34m]\u001b[0m\u001b[0;34m.\u001b[0m\u001b[0mtext\u001b[0m\u001b[0;34m.\u001b[0m\u001b[0mstrip\u001b[0m\u001b[0;34m(\u001b[0m\u001b[0;34m)\u001b[0m\u001b[0;34m\u001b[0m\u001b[0;34m\u001b[0m\u001b[0m\n\u001b[1;32m     10\u001b[0m         \u001b[0mdensity\u001b[0m \u001b[0;34m=\u001b[0m \u001b[0mcol\u001b[0m\u001b[0;34m[\u001b[0m\u001b[0;36m4\u001b[0m\u001b[0;34m]\u001b[0m\u001b[0;34m.\u001b[0m\u001b[0mtext\u001b[0m\u001b[0;34m.\u001b[0m\u001b[0mstrip\u001b[0m\u001b[0;34m(\u001b[0m\u001b[0;34m)\u001b[0m\u001b[0;34m\u001b[0m\u001b[0;34m\u001b[0m\u001b[0m\n\u001b[0;32m---> 11\u001b[0;31m         \u001b[0mpopulation_data\u001b[0m \u001b[0;34m=\u001b[0m \u001b[0mpopulation_data\u001b[0m\u001b[0;34m.\u001b[0m\u001b[0mappend\u001b[0m\u001b[0;34m(\u001b[0m\u001b[0;34m{\u001b[0m\u001b[0;34m\"Rank\"\u001b[0m\u001b[0;34m:\u001b[0m\u001b[0mrank\u001b[0m\u001b[0;34m,\u001b[0m \u001b[0;34m\"Country\"\u001b[0m\u001b[0;34m:\u001b[0m\u001b[0mcountry\u001b[0m\u001b[0;34m,\u001b[0m \u001b[0;34m\"Population\"\u001b[0m\u001b[0;34m:\u001b[0m\u001b[0mpopulation\u001b[0m\u001b[0;34m,\u001b[0m \u001b[0;34m\"Area\"\u001b[0m\u001b[0;34m:\u001b[0m\u001b[0marea\u001b[0m\u001b[0;34m,\u001b[0m \u001b[0;34m\"Density\"\u001b[0m\u001b[0;34m:\u001b[0m\u001b[0mdensity\u001b[0m\u001b[0;34m}\u001b[0m\u001b[0;34m,\u001b[0m \u001b[0mignore_index\u001b[0m\u001b[0;34m=\u001b[0m\u001b[0;32mTrue\u001b[0m\u001b[0;34m)\u001b[0m\u001b[0;34m\u001b[0m\u001b[0;34m\u001b[0m\u001b[0m\n\u001b[0m\u001b[1;32m     12\u001b[0m \u001b[0;34m\u001b[0m\u001b[0m\n\u001b[1;32m     13\u001b[0m \u001b[0mpopulation_data\u001b[0m\u001b[0;34m\u001b[0m\u001b[0;34m\u001b[0m\u001b[0m\n",
      "\u001b[0;32m~/anaconda3/lib/python3.11/site-packages/pandas/core/generic.py\u001b[0m in \u001b[0;36m?\u001b[0;34m(self, name)\u001b[0m\n\u001b[1;32m   5985\u001b[0m             \u001b[0;32mand\u001b[0m \u001b[0mname\u001b[0m \u001b[0;32mnot\u001b[0m \u001b[0;32min\u001b[0m \u001b[0mself\u001b[0m\u001b[0;34m.\u001b[0m\u001b[0m_accessors\u001b[0m\u001b[0;34m\u001b[0m\u001b[0;34m\u001b[0m\u001b[0m\n\u001b[1;32m   5986\u001b[0m             \u001b[0;32mand\u001b[0m \u001b[0mself\u001b[0m\u001b[0;34m.\u001b[0m\u001b[0m_info_axis\u001b[0m\u001b[0;34m.\u001b[0m\u001b[0m_can_hold_identifiers_and_holds_name\u001b[0m\u001b[0;34m(\u001b[0m\u001b[0mname\u001b[0m\u001b[0;34m)\u001b[0m\u001b[0;34m\u001b[0m\u001b[0;34m\u001b[0m\u001b[0m\n\u001b[1;32m   5987\u001b[0m         ):\n\u001b[1;32m   5988\u001b[0m             \u001b[0;32mreturn\u001b[0m \u001b[0mself\u001b[0m\u001b[0;34m[\u001b[0m\u001b[0mname\u001b[0m\u001b[0;34m]\u001b[0m\u001b[0;34m\u001b[0m\u001b[0;34m\u001b[0m\u001b[0m\n\u001b[0;32m-> 5989\u001b[0;31m         \u001b[0;32mreturn\u001b[0m \u001b[0mobject\u001b[0m\u001b[0;34m.\u001b[0m\u001b[0m__getattribute__\u001b[0m\u001b[0;34m(\u001b[0m\u001b[0mself\u001b[0m\u001b[0;34m,\u001b[0m \u001b[0mname\u001b[0m\u001b[0;34m)\u001b[0m\u001b[0;34m\u001b[0m\u001b[0;34m\u001b[0m\u001b[0m\n\u001b[0m",
      "\u001b[0;31mAttributeError\u001b[0m: 'DataFrame' object has no attribute 'append'"
     ]
    }
   ],
   "source": [
    "population_data = pd.DataFrame(columns=[\"Rank\", \"Country\", \"Population\", \"Area\", \"Density\"])\n",
    "\n",
    "for row in tables[table_index].tbody.find_all(\"tr\"):\n",
    "    col = row.find_all(\"td\")\n",
    "    if (col != []):\n",
    "        rank = col[0].text\n",
    "        country = col[1].text\n",
    "        population = col[2].text.strip()\n",
    "        area = col[3].text.strip()\n",
    "        density = col[4].text.strip()\n",
    "        population_data = population_data.append({\"Rank\":rank, \"Country\":country, \"Population\":population, \"Area\":area, \"Density\":density}, ignore_index=True)\n",
    "\n",
    "population_data"
   ]
  },
  {
   "cell_type": "markdown",
   "id": "8bc8b55b",
   "metadata": {},
   "source": [
    "## Scrape data from HTML tables into a DataFrame using BeautifulSoup and read_html\n",
    "\n",
    "Using the same url, data, soup, and tables object as in the last section we can use the read_html function to create a DataFrame.\n",
    "\n",
    "Remember the table we need is located in tables[table_index]\n",
    "\n",
    "We can now use the pandas function read_html and give it the string version of the table as well as the flavor which is the parsing engine bs4.\n",
    "\n"
   ]
  },
  {
   "cell_type": "code",
   "execution_count": 124,
   "id": "2c98db56",
   "metadata": {},
   "outputs": [
    {
     "data": {
      "text/plain": [
       "[                                                                                                         #  \\\n",
       "    Graphs are unavailable due to technical issues. There is more info on Phabricator and on MediaWiki.org.   \n",
       "    Graphs are unavailable due to technical issues. There is more info on Phabricator and on MediaWiki.org.   \n",
       "    Graphs are unavailable due to technical issues. There is more info on Phabricator and on MediaWiki.org.   \n",
       "    Graphs are unavailable due to technical issues. There is more info on Phabricator and on MediaWiki.org.   \n",
       "    Graphs are unavailable due to technical issues. There is more info on Phabricator and on MediaWiki.org.   \n",
       "    Graphs are unavailable due to technical issues. There is more info on Phabricator and on MediaWiki.org.   \n",
       "    Graphs are unavailable due to technical issues. There is more info on Phabricator and on MediaWiki.org.   \n",
       "    Graphs are unavailable due to technical issues. There is more info on Phabricator and on MediaWiki.org.   \n",
       "    Graphs are unavailable due to technical issues. There is more info on Phabricator and on MediaWiki.org.   \n",
       "    Graphs are unavailable due to technical issues. There is more info on Phabricator and on MediaWiki.org.   \n",
       "    Graphs are unavailable due to technical issues. There is more info on Phabricator and on MediaWiki.org.   \n",
       " 0                                                 NaN                                                        \n",
       " 1                                                   1                                                        \n",
       " 2                                                   2                                                        \n",
       " 3                                                   3                                                        \n",
       " 4                                                   4                                                        \n",
       " 5                                                   5                                                        \n",
       " 6                                                   6                                                        \n",
       " 7                                                   7                                                        \n",
       " 8                                                   8                                                        \n",
       " 9                                                   9                                                        \n",
       " 10                                                 10                                                        \n",
       " 11                                                NaN                                                        \n",
       " 12  Notes: .mw-parser-output .reflist{font-size:90...                                                        \n",
       " \n",
       "                               Most populous countries  \\\n",
       "                                    Unnamed: 1_level_1   \n",
       "                                    Unnamed: 1_level_2   \n",
       "                                    Unnamed: 1_level_3   \n",
       "                                    Unnamed: 1_level_4   \n",
       "                                    Unnamed: 1_level_5   \n",
       "                                    Unnamed: 1_level_6   \n",
       "                                    Unnamed: 1_level_7   \n",
       "                                    Unnamed: 1_level_8   \n",
       "                                    Unnamed: 1_level_9   \n",
       "                                   Unnamed: 1_level_10   \n",
       "                                   Unnamed: 1_level_11   \n",
       " 0   Graphs are unavailable due to technical issues...   \n",
       " 1                                            China[B]   \n",
       " 2                                               India   \n",
       " 3                                       United States   \n",
       " 4                                           Indonesia   \n",
       " 5                                            Pakistan   \n",
       " 6                                              Brazil   \n",
       " 7                                             Nigeria   \n",
       " 8                                          Bangladesh   \n",
       " 9                                              Russia   \n",
       " 10                                             Mexico   \n",
       " 11                                        World total   \n",
       " 12  Notes: .mw-parser-output .reflist{font-size:90...   \n",
       " \n",
       "                                                  2000  \\\n",
       "                                    Unnamed: 2_level_1   \n",
       "                                    Unnamed: 2_level_2   \n",
       "                                    Unnamed: 2_level_3   \n",
       "                                    Unnamed: 2_level_4   \n",
       "                                    Unnamed: 2_level_5   \n",
       "                                    Unnamed: 2_level_6   \n",
       "                                    Unnamed: 2_level_7   \n",
       "                                    Unnamed: 2_level_8   \n",
       "                                    Unnamed: 2_level_9   \n",
       "                                   Unnamed: 2_level_10   \n",
       "                                   Unnamed: 2_level_11   \n",
       " 0                                                 NaN   \n",
       " 1                                                1270   \n",
       " 2                                                1053   \n",
       " 3                                                 283   \n",
       " 4                                                 212   \n",
       " 5                                                 136   \n",
       " 6                                                 176   \n",
       " 7                                                 123   \n",
       " 8                                                 131   \n",
       " 9                                                 146   \n",
       " 10                                                103   \n",
       " 11                                               6127   \n",
       " 12  Notes: .mw-parser-output .reflist{font-size:90...   \n",
       " \n",
       "                                                  2015  \\\n",
       "                                    Unnamed: 3_level_1   \n",
       "                                    Unnamed: 3_level_2   \n",
       "                                    Unnamed: 3_level_3   \n",
       "                                    Unnamed: 3_level_4   \n",
       "                                    Unnamed: 3_level_5   \n",
       "                                    Unnamed: 3_level_6   \n",
       "                                    Unnamed: 3_level_7   \n",
       "                                    Unnamed: 3_level_8   \n",
       "                                    Unnamed: 3_level_9   \n",
       "                                   Unnamed: 3_level_10   \n",
       "                                   Unnamed: 3_level_11   \n",
       " 0                                                 NaN   \n",
       " 1                                                1376   \n",
       " 2                                                1311   \n",
       " 3                                                 322   \n",
       " 4                                                 258   \n",
       " 5                                                 208   \n",
       " 6                                                 206   \n",
       " 7                                                 182   \n",
       " 8                                                 161   \n",
       " 9                                                 146   \n",
       " 10                                                127   \n",
       " 11                                               7349   \n",
       " 12  Notes: .mw-parser-output .reflist{font-size:90...   \n",
       " \n",
       "                                               2030[A]  \\\n",
       "                                    Unnamed: 4_level_1   \n",
       "                                    Unnamed: 4_level_2   \n",
       "                                    Unnamed: 4_level_3   \n",
       "                                    Unnamed: 4_level_4   \n",
       "                                    Unnamed: 4_level_5   \n",
       "                                    Unnamed: 4_level_6   \n",
       "                                    Unnamed: 4_level_7   \n",
       "                                    Unnamed: 4_level_8   \n",
       "                                    Unnamed: 4_level_9   \n",
       "                                   Unnamed: 4_level_10   \n",
       "                                   Unnamed: 4_level_11   \n",
       " 0                                                 NaN   \n",
       " 1                                                1416   \n",
       " 2                                                1528   \n",
       " 3                                                 356   \n",
       " 4                                                 295   \n",
       " 5                                                 245   \n",
       " 6                                                 228   \n",
       " 7                                                 263   \n",
       " 8                                                 186   \n",
       " 9                                                 149   \n",
       " 10                                                148   \n",
       " 11                                               8501   \n",
       " 12  Notes: .mw-parser-output .reflist{font-size:90...   \n",
       " \n",
       "    Graphs are unavailable due to technical issues. There is more info on Phabricator and on MediaWiki.org.  \n",
       "                                                                                         Unnamed: 5_level_1  \n",
       "                                                                                         Unnamed: 5_level_2  \n",
       "                                                                                         Unnamed: 5_level_3  \n",
       "                                                                                         Unnamed: 5_level_4  \n",
       "                                                                                         Unnamed: 5_level_5  \n",
       "                                                                                         Unnamed: 5_level_6  \n",
       "                                                                                         Unnamed: 5_level_7  \n",
       "                                                                                         Unnamed: 5_level_8  \n",
       "                                                                                         Unnamed: 5_level_9  \n",
       "                                                                                        Unnamed: 5_level_10  \n",
       "                                                                                        Unnamed: 5_level_11  \n",
       " 0                                                 NaN                                                       \n",
       " 1                                                 NaN                                                       \n",
       " 2                                                 NaN                                                       \n",
       " 3                                                 NaN                                                       \n",
       " 4                                                 NaN                                                       \n",
       " 5                                                 NaN                                                       \n",
       " 6                                                 NaN                                                       \n",
       " 7                                                 NaN                                                       \n",
       " 8                                                 NaN                                                       \n",
       " 9                                                 NaN                                                       \n",
       " 10                                                NaN                                                       \n",
       " 11                                                NaN                                                       \n",
       " 12  Notes: .mw-parser-output .reflist{font-size:90...                                                       ,\n",
       "     0                                                  1\n",
       " 0 NaN  Graphs are unavailable due to technical issues...]"
      ]
     },
     "execution_count": 124,
     "metadata": {},
     "output_type": "execute_result"
    }
   ],
   "source": [
    "pd.read_html(str(tables[5]), flavor='bs4')"
   ]
  },
  {
   "cell_type": "markdown",
   "id": "a083713b",
   "metadata": {},
   "source": [
    "The function `read_html` always returns a list of DataFrames so we must pick the one we want out of the list."
   ]
  },
  {
   "cell_type": "code",
   "execution_count": 125,
   "id": "9e5e1933",
   "metadata": {},
   "outputs": [
    {
     "data": {
      "text/html": [
       "<div>\n",
       "<style scoped>\n",
       "    .dataframe tbody tr th:only-of-type {\n",
       "        vertical-align: middle;\n",
       "    }\n",
       "\n",
       "    .dataframe tbody tr th {\n",
       "        vertical-align: top;\n",
       "    }\n",
       "\n",
       "    .dataframe thead tr th {\n",
       "        text-align: left;\n",
       "    }\n",
       "</style>\n",
       "<table border=\"1\" class=\"dataframe\">\n",
       "  <thead>\n",
       "    <tr>\n",
       "      <th></th>\n",
       "      <th>#</th>\n",
       "      <th>Most populous countries</th>\n",
       "      <th>2000</th>\n",
       "      <th>2015</th>\n",
       "      <th>2030[A]</th>\n",
       "      <th>Graphs are unavailable due to technical issues. There is more info on Phabricator and on MediaWiki.org.</th>\n",
       "    </tr>\n",
       "    <tr>\n",
       "      <th></th>\n",
       "      <th>Graphs are unavailable due to technical issues. There is more info on Phabricator and on MediaWiki.org.</th>\n",
       "      <th>Unnamed: 1_level_1</th>\n",
       "      <th>Unnamed: 2_level_1</th>\n",
       "      <th>Unnamed: 3_level_1</th>\n",
       "      <th>Unnamed: 4_level_1</th>\n",
       "      <th>Unnamed: 5_level_1</th>\n",
       "    </tr>\n",
       "    <tr>\n",
       "      <th></th>\n",
       "      <th>Graphs are unavailable due to technical issues. There is more info on Phabricator and on MediaWiki.org.</th>\n",
       "      <th>Unnamed: 1_level_2</th>\n",
       "      <th>Unnamed: 2_level_2</th>\n",
       "      <th>Unnamed: 3_level_2</th>\n",
       "      <th>Unnamed: 4_level_2</th>\n",
       "      <th>Unnamed: 5_level_2</th>\n",
       "    </tr>\n",
       "    <tr>\n",
       "      <th></th>\n",
       "      <th>Graphs are unavailable due to technical issues. There is more info on Phabricator and on MediaWiki.org.</th>\n",
       "      <th>Unnamed: 1_level_3</th>\n",
       "      <th>Unnamed: 2_level_3</th>\n",
       "      <th>Unnamed: 3_level_3</th>\n",
       "      <th>Unnamed: 4_level_3</th>\n",
       "      <th>Unnamed: 5_level_3</th>\n",
       "    </tr>\n",
       "    <tr>\n",
       "      <th></th>\n",
       "      <th>Graphs are unavailable due to technical issues. There is more info on Phabricator and on MediaWiki.org.</th>\n",
       "      <th>Unnamed: 1_level_4</th>\n",
       "      <th>Unnamed: 2_level_4</th>\n",
       "      <th>Unnamed: 3_level_4</th>\n",
       "      <th>Unnamed: 4_level_4</th>\n",
       "      <th>Unnamed: 5_level_4</th>\n",
       "    </tr>\n",
       "    <tr>\n",
       "      <th></th>\n",
       "      <th>Graphs are unavailable due to technical issues. There is more info on Phabricator and on MediaWiki.org.</th>\n",
       "      <th>Unnamed: 1_level_5</th>\n",
       "      <th>Unnamed: 2_level_5</th>\n",
       "      <th>Unnamed: 3_level_5</th>\n",
       "      <th>Unnamed: 4_level_5</th>\n",
       "      <th>Unnamed: 5_level_5</th>\n",
       "    </tr>\n",
       "    <tr>\n",
       "      <th></th>\n",
       "      <th>Graphs are unavailable due to technical issues. There is more info on Phabricator and on MediaWiki.org.</th>\n",
       "      <th>Unnamed: 1_level_6</th>\n",
       "      <th>Unnamed: 2_level_6</th>\n",
       "      <th>Unnamed: 3_level_6</th>\n",
       "      <th>Unnamed: 4_level_6</th>\n",
       "      <th>Unnamed: 5_level_6</th>\n",
       "    </tr>\n",
       "    <tr>\n",
       "      <th></th>\n",
       "      <th>Graphs are unavailable due to technical issues. There is more info on Phabricator and on MediaWiki.org.</th>\n",
       "      <th>Unnamed: 1_level_7</th>\n",
       "      <th>Unnamed: 2_level_7</th>\n",
       "      <th>Unnamed: 3_level_7</th>\n",
       "      <th>Unnamed: 4_level_7</th>\n",
       "      <th>Unnamed: 5_level_7</th>\n",
       "    </tr>\n",
       "    <tr>\n",
       "      <th></th>\n",
       "      <th>Graphs are unavailable due to technical issues. There is more info on Phabricator and on MediaWiki.org.</th>\n",
       "      <th>Unnamed: 1_level_8</th>\n",
       "      <th>Unnamed: 2_level_8</th>\n",
       "      <th>Unnamed: 3_level_8</th>\n",
       "      <th>Unnamed: 4_level_8</th>\n",
       "      <th>Unnamed: 5_level_8</th>\n",
       "    </tr>\n",
       "    <tr>\n",
       "      <th></th>\n",
       "      <th>Graphs are unavailable due to technical issues. There is more info on Phabricator and on MediaWiki.org.</th>\n",
       "      <th>Unnamed: 1_level_9</th>\n",
       "      <th>Unnamed: 2_level_9</th>\n",
       "      <th>Unnamed: 3_level_9</th>\n",
       "      <th>Unnamed: 4_level_9</th>\n",
       "      <th>Unnamed: 5_level_9</th>\n",
       "    </tr>\n",
       "    <tr>\n",
       "      <th></th>\n",
       "      <th>Graphs are unavailable due to technical issues. There is more info on Phabricator and on MediaWiki.org.</th>\n",
       "      <th>Unnamed: 1_level_10</th>\n",
       "      <th>Unnamed: 2_level_10</th>\n",
       "      <th>Unnamed: 3_level_10</th>\n",
       "      <th>Unnamed: 4_level_10</th>\n",
       "      <th>Unnamed: 5_level_10</th>\n",
       "    </tr>\n",
       "    <tr>\n",
       "      <th></th>\n",
       "      <th>Graphs are unavailable due to technical issues. There is more info on Phabricator and on MediaWiki.org.</th>\n",
       "      <th>Unnamed: 1_level_11</th>\n",
       "      <th>Unnamed: 2_level_11</th>\n",
       "      <th>Unnamed: 3_level_11</th>\n",
       "      <th>Unnamed: 4_level_11</th>\n",
       "      <th>Unnamed: 5_level_11</th>\n",
       "    </tr>\n",
       "  </thead>\n",
       "  <tbody>\n",
       "    <tr>\n",
       "      <th>0</th>\n",
       "      <td>NaN</td>\n",
       "      <td>Graphs are unavailable due to technical issues...</td>\n",
       "      <td>NaN</td>\n",
       "      <td>NaN</td>\n",
       "      <td>NaN</td>\n",
       "      <td>NaN</td>\n",
       "    </tr>\n",
       "    <tr>\n",
       "      <th>1</th>\n",
       "      <td>1</td>\n",
       "      <td>China[B]</td>\n",
       "      <td>1270</td>\n",
       "      <td>1376</td>\n",
       "      <td>1416</td>\n",
       "      <td>NaN</td>\n",
       "    </tr>\n",
       "    <tr>\n",
       "      <th>2</th>\n",
       "      <td>2</td>\n",
       "      <td>India</td>\n",
       "      <td>1053</td>\n",
       "      <td>1311</td>\n",
       "      <td>1528</td>\n",
       "      <td>NaN</td>\n",
       "    </tr>\n",
       "    <tr>\n",
       "      <th>3</th>\n",
       "      <td>3</td>\n",
       "      <td>United States</td>\n",
       "      <td>283</td>\n",
       "      <td>322</td>\n",
       "      <td>356</td>\n",
       "      <td>NaN</td>\n",
       "    </tr>\n",
       "    <tr>\n",
       "      <th>4</th>\n",
       "      <td>4</td>\n",
       "      <td>Indonesia</td>\n",
       "      <td>212</td>\n",
       "      <td>258</td>\n",
       "      <td>295</td>\n",
       "      <td>NaN</td>\n",
       "    </tr>\n",
       "    <tr>\n",
       "      <th>5</th>\n",
       "      <td>5</td>\n",
       "      <td>Pakistan</td>\n",
       "      <td>136</td>\n",
       "      <td>208</td>\n",
       "      <td>245</td>\n",
       "      <td>NaN</td>\n",
       "    </tr>\n",
       "    <tr>\n",
       "      <th>6</th>\n",
       "      <td>6</td>\n",
       "      <td>Brazil</td>\n",
       "      <td>176</td>\n",
       "      <td>206</td>\n",
       "      <td>228</td>\n",
       "      <td>NaN</td>\n",
       "    </tr>\n",
       "    <tr>\n",
       "      <th>7</th>\n",
       "      <td>7</td>\n",
       "      <td>Nigeria</td>\n",
       "      <td>123</td>\n",
       "      <td>182</td>\n",
       "      <td>263</td>\n",
       "      <td>NaN</td>\n",
       "    </tr>\n",
       "    <tr>\n",
       "      <th>8</th>\n",
       "      <td>8</td>\n",
       "      <td>Bangladesh</td>\n",
       "      <td>131</td>\n",
       "      <td>161</td>\n",
       "      <td>186</td>\n",
       "      <td>NaN</td>\n",
       "    </tr>\n",
       "    <tr>\n",
       "      <th>9</th>\n",
       "      <td>9</td>\n",
       "      <td>Russia</td>\n",
       "      <td>146</td>\n",
       "      <td>146</td>\n",
       "      <td>149</td>\n",
       "      <td>NaN</td>\n",
       "    </tr>\n",
       "    <tr>\n",
       "      <th>10</th>\n",
       "      <td>10</td>\n",
       "      <td>Mexico</td>\n",
       "      <td>103</td>\n",
       "      <td>127</td>\n",
       "      <td>148</td>\n",
       "      <td>NaN</td>\n",
       "    </tr>\n",
       "    <tr>\n",
       "      <th>11</th>\n",
       "      <td>NaN</td>\n",
       "      <td>World total</td>\n",
       "      <td>6127</td>\n",
       "      <td>7349</td>\n",
       "      <td>8501</td>\n",
       "      <td>NaN</td>\n",
       "    </tr>\n",
       "    <tr>\n",
       "      <th>12</th>\n",
       "      <td>Notes: .mw-parser-output .reflist{font-size:90...</td>\n",
       "      <td>Notes: .mw-parser-output .reflist{font-size:90...</td>\n",
       "      <td>Notes: .mw-parser-output .reflist{font-size:90...</td>\n",
       "      <td>Notes: .mw-parser-output .reflist{font-size:90...</td>\n",
       "      <td>Notes: .mw-parser-output .reflist{font-size:90...</td>\n",
       "      <td>Notes: .mw-parser-output .reflist{font-size:90...</td>\n",
       "    </tr>\n",
       "  </tbody>\n",
       "</table>\n",
       "</div>"
      ],
      "text/plain": [
       "                                                                                                         #  \\\n",
       "   Graphs are unavailable due to technical issues. There is more info on Phabricator and on MediaWiki.org.   \n",
       "   Graphs are unavailable due to technical issues. There is more info on Phabricator and on MediaWiki.org.   \n",
       "   Graphs are unavailable due to technical issues. There is more info on Phabricator and on MediaWiki.org.   \n",
       "   Graphs are unavailable due to technical issues. There is more info on Phabricator and on MediaWiki.org.   \n",
       "   Graphs are unavailable due to technical issues. There is more info on Phabricator and on MediaWiki.org.   \n",
       "   Graphs are unavailable due to technical issues. There is more info on Phabricator and on MediaWiki.org.   \n",
       "   Graphs are unavailable due to technical issues. There is more info on Phabricator and on MediaWiki.org.   \n",
       "   Graphs are unavailable due to technical issues. There is more info on Phabricator and on MediaWiki.org.   \n",
       "   Graphs are unavailable due to technical issues. There is more info on Phabricator and on MediaWiki.org.   \n",
       "   Graphs are unavailable due to technical issues. There is more info on Phabricator and on MediaWiki.org.   \n",
       "   Graphs are unavailable due to technical issues. There is more info on Phabricator and on MediaWiki.org.   \n",
       "0                                                 NaN                                                        \n",
       "1                                                   1                                                        \n",
       "2                                                   2                                                        \n",
       "3                                                   3                                                        \n",
       "4                                                   4                                                        \n",
       "5                                                   5                                                        \n",
       "6                                                   6                                                        \n",
       "7                                                   7                                                        \n",
       "8                                                   8                                                        \n",
       "9                                                   9                                                        \n",
       "10                                                 10                                                        \n",
       "11                                                NaN                                                        \n",
       "12  Notes: .mw-parser-output .reflist{font-size:90...                                                        \n",
       "\n",
       "                              Most populous countries  \\\n",
       "                                   Unnamed: 1_level_1   \n",
       "                                   Unnamed: 1_level_2   \n",
       "                                   Unnamed: 1_level_3   \n",
       "                                   Unnamed: 1_level_4   \n",
       "                                   Unnamed: 1_level_5   \n",
       "                                   Unnamed: 1_level_6   \n",
       "                                   Unnamed: 1_level_7   \n",
       "                                   Unnamed: 1_level_8   \n",
       "                                   Unnamed: 1_level_9   \n",
       "                                  Unnamed: 1_level_10   \n",
       "                                  Unnamed: 1_level_11   \n",
       "0   Graphs are unavailable due to technical issues...   \n",
       "1                                            China[B]   \n",
       "2                                               India   \n",
       "3                                       United States   \n",
       "4                                           Indonesia   \n",
       "5                                            Pakistan   \n",
       "6                                              Brazil   \n",
       "7                                             Nigeria   \n",
       "8                                          Bangladesh   \n",
       "9                                              Russia   \n",
       "10                                             Mexico   \n",
       "11                                        World total   \n",
       "12  Notes: .mw-parser-output .reflist{font-size:90...   \n",
       "\n",
       "                                                 2000  \\\n",
       "                                   Unnamed: 2_level_1   \n",
       "                                   Unnamed: 2_level_2   \n",
       "                                   Unnamed: 2_level_3   \n",
       "                                   Unnamed: 2_level_4   \n",
       "                                   Unnamed: 2_level_5   \n",
       "                                   Unnamed: 2_level_6   \n",
       "                                   Unnamed: 2_level_7   \n",
       "                                   Unnamed: 2_level_8   \n",
       "                                   Unnamed: 2_level_9   \n",
       "                                  Unnamed: 2_level_10   \n",
       "                                  Unnamed: 2_level_11   \n",
       "0                                                 NaN   \n",
       "1                                                1270   \n",
       "2                                                1053   \n",
       "3                                                 283   \n",
       "4                                                 212   \n",
       "5                                                 136   \n",
       "6                                                 176   \n",
       "7                                                 123   \n",
       "8                                                 131   \n",
       "9                                                 146   \n",
       "10                                                103   \n",
       "11                                               6127   \n",
       "12  Notes: .mw-parser-output .reflist{font-size:90...   \n",
       "\n",
       "                                                 2015  \\\n",
       "                                   Unnamed: 3_level_1   \n",
       "                                   Unnamed: 3_level_2   \n",
       "                                   Unnamed: 3_level_3   \n",
       "                                   Unnamed: 3_level_4   \n",
       "                                   Unnamed: 3_level_5   \n",
       "                                   Unnamed: 3_level_6   \n",
       "                                   Unnamed: 3_level_7   \n",
       "                                   Unnamed: 3_level_8   \n",
       "                                   Unnamed: 3_level_9   \n",
       "                                  Unnamed: 3_level_10   \n",
       "                                  Unnamed: 3_level_11   \n",
       "0                                                 NaN   \n",
       "1                                                1376   \n",
       "2                                                1311   \n",
       "3                                                 322   \n",
       "4                                                 258   \n",
       "5                                                 208   \n",
       "6                                                 206   \n",
       "7                                                 182   \n",
       "8                                                 161   \n",
       "9                                                 146   \n",
       "10                                                127   \n",
       "11                                               7349   \n",
       "12  Notes: .mw-parser-output .reflist{font-size:90...   \n",
       "\n",
       "                                              2030[A]  \\\n",
       "                                   Unnamed: 4_level_1   \n",
       "                                   Unnamed: 4_level_2   \n",
       "                                   Unnamed: 4_level_3   \n",
       "                                   Unnamed: 4_level_4   \n",
       "                                   Unnamed: 4_level_5   \n",
       "                                   Unnamed: 4_level_6   \n",
       "                                   Unnamed: 4_level_7   \n",
       "                                   Unnamed: 4_level_8   \n",
       "                                   Unnamed: 4_level_9   \n",
       "                                  Unnamed: 4_level_10   \n",
       "                                  Unnamed: 4_level_11   \n",
       "0                                                 NaN   \n",
       "1                                                1416   \n",
       "2                                                1528   \n",
       "3                                                 356   \n",
       "4                                                 295   \n",
       "5                                                 245   \n",
       "6                                                 228   \n",
       "7                                                 263   \n",
       "8                                                 186   \n",
       "9                                                 149   \n",
       "10                                                148   \n",
       "11                                               8501   \n",
       "12  Notes: .mw-parser-output .reflist{font-size:90...   \n",
       "\n",
       "   Graphs are unavailable due to technical issues. There is more info on Phabricator and on MediaWiki.org.  \n",
       "                                                                                        Unnamed: 5_level_1  \n",
       "                                                                                        Unnamed: 5_level_2  \n",
       "                                                                                        Unnamed: 5_level_3  \n",
       "                                                                                        Unnamed: 5_level_4  \n",
       "                                                                                        Unnamed: 5_level_5  \n",
       "                                                                                        Unnamed: 5_level_6  \n",
       "                                                                                        Unnamed: 5_level_7  \n",
       "                                                                                        Unnamed: 5_level_8  \n",
       "                                                                                        Unnamed: 5_level_9  \n",
       "                                                                                       Unnamed: 5_level_10  \n",
       "                                                                                       Unnamed: 5_level_11  \n",
       "0                                                 NaN                                                       \n",
       "1                                                 NaN                                                       \n",
       "2                                                 NaN                                                       \n",
       "3                                                 NaN                                                       \n",
       "4                                                 NaN                                                       \n",
       "5                                                 NaN                                                       \n",
       "6                                                 NaN                                                       \n",
       "7                                                 NaN                                                       \n",
       "8                                                 NaN                                                       \n",
       "9                                                 NaN                                                       \n",
       "10                                                NaN                                                       \n",
       "11                                                NaN                                                       \n",
       "12  Notes: .mw-parser-output .reflist{font-size:90...                                                       "
      ]
     },
     "execution_count": 125,
     "metadata": {},
     "output_type": "execute_result"
    }
   ],
   "source": [
    "population_data_read_html = pd.read_html(str(tables[5]), flavor='bs4')[0]\n",
    "\n",
    "population_data_read_html"
   ]
  },
  {
   "cell_type": "markdown",
   "id": "7bf4e77d",
   "metadata": {},
   "source": [
    "## Scrape data from HTML tables into a DataFrame using read_html¶\n",
    "\n",
    "\n",
    "\n",
    "\n",
    "\n",
    "\n",
    "We can also use the read_html function to directly get DataFrames from a url."
   ]
  },
  {
   "cell_type": "code",
   "execution_count": 126,
   "id": "54fd7274",
   "metadata": {},
   "outputs": [],
   "source": [
    "dataframe_list = pd.read_html(url, flavor='bs4')"
   ]
  },
  {
   "cell_type": "markdown",
   "id": "29cfff09",
   "metadata": {},
   "source": [
    "We can see there are 25 DataFrames just like when we used `find_all` on the `soup` object."
   ]
  },
  {
   "cell_type": "code",
   "execution_count": 128,
   "id": "b7ef2403",
   "metadata": {},
   "outputs": [
    {
     "data": {
      "text/plain": [
       "27"
      ]
     },
     "execution_count": 128,
     "metadata": {},
     "output_type": "execute_result"
    }
   ],
   "source": [
    "len(dataframe_list)"
   ]
  },
  {
   "cell_type": "markdown",
   "id": "f97b648a",
   "metadata": {},
   "source": [
    "Finally we can pick the DataFrame we need out of the list."
   ]
  },
  {
   "cell_type": "code",
   "execution_count": 129,
   "id": "318c1e5e",
   "metadata": {},
   "outputs": [
    {
     "data": {
      "text/html": [
       "<div>\n",
       "<style scoped>\n",
       "    .dataframe tbody tr th:only-of-type {\n",
       "        vertical-align: middle;\n",
       "    }\n",
       "\n",
       "    .dataframe tbody tr th {\n",
       "        vertical-align: top;\n",
       "    }\n",
       "\n",
       "    .dataframe thead tr th {\n",
       "        text-align: left;\n",
       "    }\n",
       "</style>\n",
       "<table border=\"1\" class=\"dataframe\">\n",
       "  <thead>\n",
       "    <tr>\n",
       "      <th></th>\n",
       "      <th>#</th>\n",
       "      <th>Most populous countries</th>\n",
       "      <th>2000</th>\n",
       "      <th>2015</th>\n",
       "      <th>2030[A]</th>\n",
       "      <th>Graphs are unavailable due to technical issues. There is more info on Phabricator and on MediaWiki.org.</th>\n",
       "    </tr>\n",
       "    <tr>\n",
       "      <th></th>\n",
       "      <th>Graphs are unavailable due to technical issues. There is more info on Phabricator and on MediaWiki.org.</th>\n",
       "      <th>Unnamed: 1_level_1</th>\n",
       "      <th>Unnamed: 2_level_1</th>\n",
       "      <th>Unnamed: 3_level_1</th>\n",
       "      <th>Unnamed: 4_level_1</th>\n",
       "      <th>Unnamed: 5_level_1</th>\n",
       "    </tr>\n",
       "    <tr>\n",
       "      <th></th>\n",
       "      <th>Graphs are unavailable due to technical issues. There is more info on Phabricator and on MediaWiki.org.</th>\n",
       "      <th>Unnamed: 1_level_2</th>\n",
       "      <th>Unnamed: 2_level_2</th>\n",
       "      <th>Unnamed: 3_level_2</th>\n",
       "      <th>Unnamed: 4_level_2</th>\n",
       "      <th>Unnamed: 5_level_2</th>\n",
       "    </tr>\n",
       "    <tr>\n",
       "      <th></th>\n",
       "      <th>Graphs are unavailable due to technical issues. There is more info on Phabricator and on MediaWiki.org.</th>\n",
       "      <th>Unnamed: 1_level_3</th>\n",
       "      <th>Unnamed: 2_level_3</th>\n",
       "      <th>Unnamed: 3_level_3</th>\n",
       "      <th>Unnamed: 4_level_3</th>\n",
       "      <th>Unnamed: 5_level_3</th>\n",
       "    </tr>\n",
       "    <tr>\n",
       "      <th></th>\n",
       "      <th>Graphs are unavailable due to technical issues. There is more info on Phabricator and on MediaWiki.org.</th>\n",
       "      <th>Unnamed: 1_level_4</th>\n",
       "      <th>Unnamed: 2_level_4</th>\n",
       "      <th>Unnamed: 3_level_4</th>\n",
       "      <th>Unnamed: 4_level_4</th>\n",
       "      <th>Unnamed: 5_level_4</th>\n",
       "    </tr>\n",
       "    <tr>\n",
       "      <th></th>\n",
       "      <th>Graphs are unavailable due to technical issues. There is more info on Phabricator and on MediaWiki.org.</th>\n",
       "      <th>Unnamed: 1_level_5</th>\n",
       "      <th>Unnamed: 2_level_5</th>\n",
       "      <th>Unnamed: 3_level_5</th>\n",
       "      <th>Unnamed: 4_level_5</th>\n",
       "      <th>Unnamed: 5_level_5</th>\n",
       "    </tr>\n",
       "    <tr>\n",
       "      <th></th>\n",
       "      <th>Graphs are unavailable due to technical issues. There is more info on Phabricator and on MediaWiki.org.</th>\n",
       "      <th>Unnamed: 1_level_6</th>\n",
       "      <th>Unnamed: 2_level_6</th>\n",
       "      <th>Unnamed: 3_level_6</th>\n",
       "      <th>Unnamed: 4_level_6</th>\n",
       "      <th>Unnamed: 5_level_6</th>\n",
       "    </tr>\n",
       "    <tr>\n",
       "      <th></th>\n",
       "      <th>Graphs are unavailable due to technical issues. There is more info on Phabricator and on MediaWiki.org.</th>\n",
       "      <th>Unnamed: 1_level_7</th>\n",
       "      <th>Unnamed: 2_level_7</th>\n",
       "      <th>Unnamed: 3_level_7</th>\n",
       "      <th>Unnamed: 4_level_7</th>\n",
       "      <th>Unnamed: 5_level_7</th>\n",
       "    </tr>\n",
       "    <tr>\n",
       "      <th></th>\n",
       "      <th>Graphs are unavailable due to technical issues. There is more info on Phabricator and on MediaWiki.org.</th>\n",
       "      <th>Unnamed: 1_level_8</th>\n",
       "      <th>Unnamed: 2_level_8</th>\n",
       "      <th>Unnamed: 3_level_8</th>\n",
       "      <th>Unnamed: 4_level_8</th>\n",
       "      <th>Unnamed: 5_level_8</th>\n",
       "    </tr>\n",
       "    <tr>\n",
       "      <th></th>\n",
       "      <th>Graphs are unavailable due to technical issues. There is more info on Phabricator and on MediaWiki.org.</th>\n",
       "      <th>Unnamed: 1_level_9</th>\n",
       "      <th>Unnamed: 2_level_9</th>\n",
       "      <th>Unnamed: 3_level_9</th>\n",
       "      <th>Unnamed: 4_level_9</th>\n",
       "      <th>Unnamed: 5_level_9</th>\n",
       "    </tr>\n",
       "    <tr>\n",
       "      <th></th>\n",
       "      <th>Graphs are unavailable due to technical issues. There is more info on Phabricator and on MediaWiki.org.</th>\n",
       "      <th>Unnamed: 1_level_10</th>\n",
       "      <th>Unnamed: 2_level_10</th>\n",
       "      <th>Unnamed: 3_level_10</th>\n",
       "      <th>Unnamed: 4_level_10</th>\n",
       "      <th>Unnamed: 5_level_10</th>\n",
       "    </tr>\n",
       "    <tr>\n",
       "      <th></th>\n",
       "      <th>Graphs are unavailable due to technical issues. There is more info on Phabricator and on MediaWiki.org.</th>\n",
       "      <th>Unnamed: 1_level_11</th>\n",
       "      <th>Unnamed: 2_level_11</th>\n",
       "      <th>Unnamed: 3_level_11</th>\n",
       "      <th>Unnamed: 4_level_11</th>\n",
       "      <th>Unnamed: 5_level_11</th>\n",
       "    </tr>\n",
       "  </thead>\n",
       "  <tbody>\n",
       "    <tr>\n",
       "      <th>0</th>\n",
       "      <td>NaN</td>\n",
       "      <td>Graphs are unavailable due to technical issues...</td>\n",
       "      <td>NaN</td>\n",
       "      <td>NaN</td>\n",
       "      <td>NaN</td>\n",
       "      <td>NaN</td>\n",
       "    </tr>\n",
       "    <tr>\n",
       "      <th>1</th>\n",
       "      <td>1</td>\n",
       "      <td>China[B]</td>\n",
       "      <td>1270</td>\n",
       "      <td>1376</td>\n",
       "      <td>1416</td>\n",
       "      <td>NaN</td>\n",
       "    </tr>\n",
       "    <tr>\n",
       "      <th>2</th>\n",
       "      <td>2</td>\n",
       "      <td>India</td>\n",
       "      <td>1053</td>\n",
       "      <td>1311</td>\n",
       "      <td>1528</td>\n",
       "      <td>NaN</td>\n",
       "    </tr>\n",
       "    <tr>\n",
       "      <th>3</th>\n",
       "      <td>3</td>\n",
       "      <td>United States</td>\n",
       "      <td>283</td>\n",
       "      <td>322</td>\n",
       "      <td>356</td>\n",
       "      <td>NaN</td>\n",
       "    </tr>\n",
       "    <tr>\n",
       "      <th>4</th>\n",
       "      <td>4</td>\n",
       "      <td>Indonesia</td>\n",
       "      <td>212</td>\n",
       "      <td>258</td>\n",
       "      <td>295</td>\n",
       "      <td>NaN</td>\n",
       "    </tr>\n",
       "    <tr>\n",
       "      <th>5</th>\n",
       "      <td>5</td>\n",
       "      <td>Pakistan</td>\n",
       "      <td>136</td>\n",
       "      <td>208</td>\n",
       "      <td>245</td>\n",
       "      <td>NaN</td>\n",
       "    </tr>\n",
       "    <tr>\n",
       "      <th>6</th>\n",
       "      <td>6</td>\n",
       "      <td>Brazil</td>\n",
       "      <td>176</td>\n",
       "      <td>206</td>\n",
       "      <td>228</td>\n",
       "      <td>NaN</td>\n",
       "    </tr>\n",
       "    <tr>\n",
       "      <th>7</th>\n",
       "      <td>7</td>\n",
       "      <td>Nigeria</td>\n",
       "      <td>123</td>\n",
       "      <td>182</td>\n",
       "      <td>263</td>\n",
       "      <td>NaN</td>\n",
       "    </tr>\n",
       "    <tr>\n",
       "      <th>8</th>\n",
       "      <td>8</td>\n",
       "      <td>Bangladesh</td>\n",
       "      <td>131</td>\n",
       "      <td>161</td>\n",
       "      <td>186</td>\n",
       "      <td>NaN</td>\n",
       "    </tr>\n",
       "    <tr>\n",
       "      <th>9</th>\n",
       "      <td>9</td>\n",
       "      <td>Russia</td>\n",
       "      <td>146</td>\n",
       "      <td>146</td>\n",
       "      <td>149</td>\n",
       "      <td>NaN</td>\n",
       "    </tr>\n",
       "    <tr>\n",
       "      <th>10</th>\n",
       "      <td>10</td>\n",
       "      <td>Mexico</td>\n",
       "      <td>103</td>\n",
       "      <td>127</td>\n",
       "      <td>148</td>\n",
       "      <td>NaN</td>\n",
       "    </tr>\n",
       "    <tr>\n",
       "      <th>11</th>\n",
       "      <td>NaN</td>\n",
       "      <td>World total</td>\n",
       "      <td>6127</td>\n",
       "      <td>7349</td>\n",
       "      <td>8501</td>\n",
       "      <td>NaN</td>\n",
       "    </tr>\n",
       "    <tr>\n",
       "      <th>12</th>\n",
       "      <td>Notes: .mw-parser-output .reflist{font-size:90...</td>\n",
       "      <td>Notes: .mw-parser-output .reflist{font-size:90...</td>\n",
       "      <td>Notes: .mw-parser-output .reflist{font-size:90...</td>\n",
       "      <td>Notes: .mw-parser-output .reflist{font-size:90...</td>\n",
       "      <td>Notes: .mw-parser-output .reflist{font-size:90...</td>\n",
       "      <td>Notes: .mw-parser-output .reflist{font-size:90...</td>\n",
       "    </tr>\n",
       "  </tbody>\n",
       "</table>\n",
       "</div>"
      ],
      "text/plain": [
       "                                                                                                         #  \\\n",
       "   Graphs are unavailable due to technical issues. There is more info on Phabricator and on MediaWiki.org.   \n",
       "   Graphs are unavailable due to technical issues. There is more info on Phabricator and on MediaWiki.org.   \n",
       "   Graphs are unavailable due to technical issues. There is more info on Phabricator and on MediaWiki.org.   \n",
       "   Graphs are unavailable due to technical issues. There is more info on Phabricator and on MediaWiki.org.   \n",
       "   Graphs are unavailable due to technical issues. There is more info on Phabricator and on MediaWiki.org.   \n",
       "   Graphs are unavailable due to technical issues. There is more info on Phabricator and on MediaWiki.org.   \n",
       "   Graphs are unavailable due to technical issues. There is more info on Phabricator and on MediaWiki.org.   \n",
       "   Graphs are unavailable due to technical issues. There is more info on Phabricator and on MediaWiki.org.   \n",
       "   Graphs are unavailable due to technical issues. There is more info on Phabricator and on MediaWiki.org.   \n",
       "   Graphs are unavailable due to technical issues. There is more info on Phabricator and on MediaWiki.org.   \n",
       "   Graphs are unavailable due to technical issues. There is more info on Phabricator and on MediaWiki.org.   \n",
       "0                                                 NaN                                                        \n",
       "1                                                   1                                                        \n",
       "2                                                   2                                                        \n",
       "3                                                   3                                                        \n",
       "4                                                   4                                                        \n",
       "5                                                   5                                                        \n",
       "6                                                   6                                                        \n",
       "7                                                   7                                                        \n",
       "8                                                   8                                                        \n",
       "9                                                   9                                                        \n",
       "10                                                 10                                                        \n",
       "11                                                NaN                                                        \n",
       "12  Notes: .mw-parser-output .reflist{font-size:90...                                                        \n",
       "\n",
       "                              Most populous countries  \\\n",
       "                                   Unnamed: 1_level_1   \n",
       "                                   Unnamed: 1_level_2   \n",
       "                                   Unnamed: 1_level_3   \n",
       "                                   Unnamed: 1_level_4   \n",
       "                                   Unnamed: 1_level_5   \n",
       "                                   Unnamed: 1_level_6   \n",
       "                                   Unnamed: 1_level_7   \n",
       "                                   Unnamed: 1_level_8   \n",
       "                                   Unnamed: 1_level_9   \n",
       "                                  Unnamed: 1_level_10   \n",
       "                                  Unnamed: 1_level_11   \n",
       "0   Graphs are unavailable due to technical issues...   \n",
       "1                                            China[B]   \n",
       "2                                               India   \n",
       "3                                       United States   \n",
       "4                                           Indonesia   \n",
       "5                                            Pakistan   \n",
       "6                                              Brazil   \n",
       "7                                             Nigeria   \n",
       "8                                          Bangladesh   \n",
       "9                                              Russia   \n",
       "10                                             Mexico   \n",
       "11                                        World total   \n",
       "12  Notes: .mw-parser-output .reflist{font-size:90...   \n",
       "\n",
       "                                                 2000  \\\n",
       "                                   Unnamed: 2_level_1   \n",
       "                                   Unnamed: 2_level_2   \n",
       "                                   Unnamed: 2_level_3   \n",
       "                                   Unnamed: 2_level_4   \n",
       "                                   Unnamed: 2_level_5   \n",
       "                                   Unnamed: 2_level_6   \n",
       "                                   Unnamed: 2_level_7   \n",
       "                                   Unnamed: 2_level_8   \n",
       "                                   Unnamed: 2_level_9   \n",
       "                                  Unnamed: 2_level_10   \n",
       "                                  Unnamed: 2_level_11   \n",
       "0                                                 NaN   \n",
       "1                                                1270   \n",
       "2                                                1053   \n",
       "3                                                 283   \n",
       "4                                                 212   \n",
       "5                                                 136   \n",
       "6                                                 176   \n",
       "7                                                 123   \n",
       "8                                                 131   \n",
       "9                                                 146   \n",
       "10                                                103   \n",
       "11                                               6127   \n",
       "12  Notes: .mw-parser-output .reflist{font-size:90...   \n",
       "\n",
       "                                                 2015  \\\n",
       "                                   Unnamed: 3_level_1   \n",
       "                                   Unnamed: 3_level_2   \n",
       "                                   Unnamed: 3_level_3   \n",
       "                                   Unnamed: 3_level_4   \n",
       "                                   Unnamed: 3_level_5   \n",
       "                                   Unnamed: 3_level_6   \n",
       "                                   Unnamed: 3_level_7   \n",
       "                                   Unnamed: 3_level_8   \n",
       "                                   Unnamed: 3_level_9   \n",
       "                                  Unnamed: 3_level_10   \n",
       "                                  Unnamed: 3_level_11   \n",
       "0                                                 NaN   \n",
       "1                                                1376   \n",
       "2                                                1311   \n",
       "3                                                 322   \n",
       "4                                                 258   \n",
       "5                                                 208   \n",
       "6                                                 206   \n",
       "7                                                 182   \n",
       "8                                                 161   \n",
       "9                                                 146   \n",
       "10                                                127   \n",
       "11                                               7349   \n",
       "12  Notes: .mw-parser-output .reflist{font-size:90...   \n",
       "\n",
       "                                              2030[A]  \\\n",
       "                                   Unnamed: 4_level_1   \n",
       "                                   Unnamed: 4_level_2   \n",
       "                                   Unnamed: 4_level_3   \n",
       "                                   Unnamed: 4_level_4   \n",
       "                                   Unnamed: 4_level_5   \n",
       "                                   Unnamed: 4_level_6   \n",
       "                                   Unnamed: 4_level_7   \n",
       "                                   Unnamed: 4_level_8   \n",
       "                                   Unnamed: 4_level_9   \n",
       "                                  Unnamed: 4_level_10   \n",
       "                                  Unnamed: 4_level_11   \n",
       "0                                                 NaN   \n",
       "1                                                1416   \n",
       "2                                                1528   \n",
       "3                                                 356   \n",
       "4                                                 295   \n",
       "5                                                 245   \n",
       "6                                                 228   \n",
       "7                                                 263   \n",
       "8                                                 186   \n",
       "9                                                 149   \n",
       "10                                                148   \n",
       "11                                               8501   \n",
       "12  Notes: .mw-parser-output .reflist{font-size:90...   \n",
       "\n",
       "   Graphs are unavailable due to technical issues. There is more info on Phabricator and on MediaWiki.org.  \n",
       "                                                                                        Unnamed: 5_level_1  \n",
       "                                                                                        Unnamed: 5_level_2  \n",
       "                                                                                        Unnamed: 5_level_3  \n",
       "                                                                                        Unnamed: 5_level_4  \n",
       "                                                                                        Unnamed: 5_level_5  \n",
       "                                                                                        Unnamed: 5_level_6  \n",
       "                                                                                        Unnamed: 5_level_7  \n",
       "                                                                                        Unnamed: 5_level_8  \n",
       "                                                                                        Unnamed: 5_level_9  \n",
       "                                                                                       Unnamed: 5_level_10  \n",
       "                                                                                       Unnamed: 5_level_11  \n",
       "0                                                 NaN                                                       \n",
       "1                                                 NaN                                                       \n",
       "2                                                 NaN                                                       \n",
       "3                                                 NaN                                                       \n",
       "4                                                 NaN                                                       \n",
       "5                                                 NaN                                                       \n",
       "6                                                 NaN                                                       \n",
       "7                                                 NaN                                                       \n",
       "8                                                 NaN                                                       \n",
       "9                                                 NaN                                                       \n",
       "10                                                NaN                                                       \n",
       "11                                                NaN                                                       \n",
       "12  Notes: .mw-parser-output .reflist{font-size:90...                                                       "
      ]
     },
     "execution_count": 129,
     "metadata": {},
     "output_type": "execute_result"
    }
   ],
   "source": [
    "dataframe_list[5]"
   ]
  },
  {
   "cell_type": "code",
   "execution_count": 130,
   "id": "47a711c4",
   "metadata": {},
   "outputs": [
    {
     "data": {
      "text/html": [
       "<div>\n",
       "<style scoped>\n",
       "    .dataframe tbody tr th:only-of-type {\n",
       "        vertical-align: middle;\n",
       "    }\n",
       "\n",
       "    .dataframe tbody tr th {\n",
       "        vertical-align: top;\n",
       "    }\n",
       "\n",
       "    .dataframe thead th {\n",
       "        text-align: right;\n",
       "    }\n",
       "</style>\n",
       "<table border=\"1\" class=\"dataframe\">\n",
       "  <thead>\n",
       "    <tr style=\"text-align: right;\">\n",
       "      <th></th>\n",
       "      <th>Rank</th>\n",
       "      <th>Country</th>\n",
       "      <th>Population</th>\n",
       "      <th>Area (km2)</th>\n",
       "      <th>Density (pop/km2)</th>\n",
       "    </tr>\n",
       "  </thead>\n",
       "  <tbody>\n",
       "    <tr>\n",
       "      <th>0</th>\n",
       "      <td>1</td>\n",
       "      <td>Singapore</td>\n",
       "      <td>5921231</td>\n",
       "      <td>719</td>\n",
       "      <td>8235</td>\n",
       "    </tr>\n",
       "    <tr>\n",
       "      <th>1</th>\n",
       "      <td>2</td>\n",
       "      <td>Bangladesh</td>\n",
       "      <td>165650475</td>\n",
       "      <td>148460</td>\n",
       "      <td>1116</td>\n",
       "    </tr>\n",
       "    <tr>\n",
       "      <th>2</th>\n",
       "      <td>3</td>\n",
       "      <td>Palestine[note 3][103]</td>\n",
       "      <td>5223000</td>\n",
       "      <td>6025</td>\n",
       "      <td>867</td>\n",
       "    </tr>\n",
       "    <tr>\n",
       "      <th>3</th>\n",
       "      <td>4</td>\n",
       "      <td>Taiwan[note 4]</td>\n",
       "      <td>23580712</td>\n",
       "      <td>35980</td>\n",
       "      <td>655</td>\n",
       "    </tr>\n",
       "    <tr>\n",
       "      <th>4</th>\n",
       "      <td>5</td>\n",
       "      <td>South Korea</td>\n",
       "      <td>51844834</td>\n",
       "      <td>99720</td>\n",
       "      <td>520</td>\n",
       "    </tr>\n",
       "    <tr>\n",
       "      <th>5</th>\n",
       "      <td>6</td>\n",
       "      <td>Lebanon</td>\n",
       "      <td>5296814</td>\n",
       "      <td>10400</td>\n",
       "      <td>509</td>\n",
       "    </tr>\n",
       "    <tr>\n",
       "      <th>6</th>\n",
       "      <td>7</td>\n",
       "      <td>Rwanda</td>\n",
       "      <td>13173730</td>\n",
       "      <td>26338</td>\n",
       "      <td>500</td>\n",
       "    </tr>\n",
       "    <tr>\n",
       "      <th>7</th>\n",
       "      <td>8</td>\n",
       "      <td>Burundi</td>\n",
       "      <td>12696478</td>\n",
       "      <td>27830</td>\n",
       "      <td>456</td>\n",
       "    </tr>\n",
       "    <tr>\n",
       "      <th>8</th>\n",
       "      <td>9</td>\n",
       "      <td>India</td>\n",
       "      <td>1389637446</td>\n",
       "      <td>3287263</td>\n",
       "      <td>423</td>\n",
       "    </tr>\n",
       "    <tr>\n",
       "      <th>9</th>\n",
       "      <td>10</td>\n",
       "      <td>Netherlands</td>\n",
       "      <td>17400824</td>\n",
       "      <td>41543</td>\n",
       "      <td>419</td>\n",
       "    </tr>\n",
       "  </tbody>\n",
       "</table>\n",
       "</div>"
      ],
      "text/plain": [
       "   Rank                 Country  Population  Area (km2)  Density (pop/km2)\n",
       "0     1               Singapore     5921231         719               8235\n",
       "1     2              Bangladesh   165650475      148460               1116\n",
       "2     3  Palestine[note 3][103]     5223000        6025                867\n",
       "3     4          Taiwan[note 4]    23580712       35980                655\n",
       "4     5             South Korea    51844834       99720                520\n",
       "5     6                 Lebanon     5296814       10400                509\n",
       "6     7                  Rwanda    13173730       26338                500\n",
       "7     8                 Burundi    12696478       27830                456\n",
       "8     9                   India  1389637446     3287263                423\n",
       "9    10             Netherlands    17400824       41543                419"
      ]
     },
     "execution_count": 130,
     "metadata": {},
     "output_type": "execute_result"
    }
   ],
   "source": [
    "pd.read_html(url, match=\"10 most densely populated countries\", flavor='bs4')[0]"
   ]
  }
 ],
 "metadata": {
  "kernelspec": {
   "display_name": "Python 3 (ipykernel)",
   "language": "python",
   "name": "python3"
  },
  "language_info": {
   "codemirror_mode": {
    "name": "ipython",
    "version": 3
   },
   "file_extension": ".py",
   "mimetype": "text/x-python",
   "name": "python",
   "nbconvert_exporter": "python",
   "pygments_lexer": "ipython3",
   "version": "3.11.5"
  }
 },
 "nbformat": 4,
 "nbformat_minor": 5
}
